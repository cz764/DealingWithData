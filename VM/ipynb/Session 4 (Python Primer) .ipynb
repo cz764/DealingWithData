{
 "metadata": {
  "name": ""
 },
 "nbformat": 3,
 "nbformat_minor": 0,
 "worksheets": [
  {
   "cells": [
    {
     "cell_type": "markdown",
     "metadata": {},
     "source": [
      "## Python Tutorials\n",
      "\n",
      "If you have no knowledge of programming, then the [official Python tutorial](https://docs.python.org/2/tutorial/index.html) is a good place to start.\n",
      "\n"
     ]
    },
    {
     "cell_type": "markdown",
     "metadata": {},
     "source": [
      "### Our first Python program\n",
      "\n",
      "Traditionally, every time that we start learning a new language, we start with a program that prints \"Hello World\" in the output."
     ]
    },
    {
     "cell_type": "code",
     "collapsed": false,
     "input": [
      "print \"Hello World\""
     ],
     "language": "python",
     "metadata": {},
     "outputs": [
      {
       "output_type": "stream",
       "stream": "stdout",
       "text": [
        "Hello World\n"
       ]
      }
     ],
     "prompt_number": 1
    },
    {
     "cell_type": "markdown",
     "metadata": {},
     "source": [
      "#### Exercise\n",
      "\n",
      "Print your own message:"
     ]
    },
    {
     "cell_type": "code",
     "collapsed": false,
     "input": [
      "# your own code here\n",
      "print \"hi Chen Zhu\""
     ],
     "language": "python",
     "metadata": {},
     "outputs": [
      {
       "output_type": "stream",
       "stream": "stdout",
       "text": [
        "hi Chen Zhu\n"
       ]
      }
     ],
     "prompt_number": 2
    },
    {
     "cell_type": "markdown",
     "metadata": {},
     "source": [
      "Comments\n",
      "--------\n",
      "Comments are notes in your source code that aren't exectued when your code is run. These are useful for reminding yourself what your code does, and for notifying others to your intentions. Python has single line and multiline comments."
     ]
    },
    {
     "cell_type": "code",
     "collapsed": false,
     "input": [
      "# this is a single line comment\n",
      "print \"trying out some comments\"\n",
      "\n",
      "\"\"\"and here\n",
      "is a multi-line comment\"\"\"\n",
      "\n",
      "\n",
      "print \"python ftw\""
     ],
     "language": "python",
     "metadata": {},
     "outputs": []
    },
    {
     "cell_type": "markdown",
     "metadata": {},
     "source": [
      "Variables\n",
      "---------\n",
      "\n",
      "Variables are aliases for data. This allows the developer to use the name for a particular value rather than the value it self. This makes the code more readable, and allows various optimizations to make a program run more efficiently.\n",
      "\n",
      "In python, a variable can be named almost anything, according to the whims of the programmer. You can use any letter, the special characters \"\\_\" and every number provided you do not start with it. White spaces and signs with special meanings in Python, as \"+\" and \"-\" are not allowed. Variable names are case-sensitive. The common pattern is to separate words in variable names with underscores \"\\_\".\n",
      "\n",
      "Variables are declared by stating the variable name and assigning to it using the \"=\" operator. At any time, you can reassign a value to a variable."
     ]
    },
    {
     "cell_type": "code",
     "collapsed": false,
     "input": [
      "a_variable = \"yay!\"\n",
      "another_variable = \"woo!\"\n",
      "yet_another_variable = 1\n",
      "one_more_variable = 3.1415926\n",
      "\n",
      "print a_variable\n",
      "\n",
      "a_variable = \"uh oh!\" # reassigning\n",
      "\n",
      "print a_variable\n",
      "\n",
      "a_variable = another_variable # reassigning again\n",
      "\n",
      "print a_variable\n",
      "\n",
      "# This will generate an error if executed\n",
      "# a_variable = a_variable + yet_another_variable\n",
      "\n",
      "# But this one will not:\n",
      "a_variable = yet_another_variable\n",
      "\n",
      "print a_variable"
     ],
     "language": "python",
     "metadata": {},
     "outputs": [
      {
       "output_type": "stream",
       "stream": "stdout",
       "text": [
        "yay!\n",
        "uh oh!\n",
        "woo!\n",
        "1\n"
       ]
      }
     ],
     "prompt_number": 3
    },
    {
     "cell_type": "markdown",
     "metadata": {},
     "source": [
      "We can get the output of unix commands in Python variables by prefixing them with `!`"
     ]
    },
    {
     "cell_type": "code",
     "collapsed": false,
     "input": [
      "current_date = !date\n",
      "print current_date"
     ],
     "language": "python",
     "metadata": {},
     "outputs": []
    },
    {
     "cell_type": "markdown",
     "metadata": {},
     "source": [
      "#### Exercise\n",
      "\n",
      "Get the current directory using the Unix command `pwd` and assign it to a Python variable. Print the variable"
     ]
    },
    {
     "cell_type": "code",
     "collapsed": false,
     "input": [
      "# your own code here"
     ],
     "language": "python",
     "metadata": {},
     "outputs": []
    },
    {
     "cell_type": "markdown",
     "metadata": {},
     "source": [
      "Primitive Data Types\n",
      "--------------------\n",
      "\n",
      "These are the basic data types that constitute all of the more complex data structures in python.\n",
      "\n",
      "###String:\n",
      "Textual data, characters and sequences of characters. Can be specified by surrounding some text with single `'` or double `\"` quotes. "
     ]
    },
    {
     "cell_type": "code",
     "collapsed": false,
     "input": [
      "str_1 = \"Hello World!\"\n",
      "print str_1\n",
      "print str_1"
     ],
     "language": "python",
     "metadata": {},
     "outputs": [
      {
       "output_type": "stream",
       "stream": "stdout",
       "text": [
        "Hello World!\n",
        "Hello World!\n"
       ]
      }
     ],
     "prompt_number": 4
    },
    {
     "cell_type": "code",
     "collapsed": false,
     "input": [
      "# Notice that we end the strings below with the \\n character, \n",
      "# which is the \"new line\" special character\n",
      "str_2 =\"Hello World!\\nHello World Twice!\\n\"\n",
      "print str_2\n",
      "\n",
      "# Let's use the \\t character which is the special character for tab\n",
      "str_3 =\"Hello\\tWorld!\\n\"\n",
      "print str_3\n"
     ],
     "language": "python",
     "metadata": {},
     "outputs": [
      {
       "output_type": "stream",
       "stream": "stdout",
       "text": [
        "Hello World!\n",
        "Hello World Twice!\n",
        "\n",
        "Hello\tWorld!\n",
        "\n"
       ]
      }
     ],
     "prompt_number": 56
    },
    {
     "cell_type": "code",
     "collapsed": false,
     "input": [
      "str_5 = 'If we want to have \\'single quotes\\' in single quoted string we should escape them\\n'\n",
      "print str_5"
     ],
     "language": "python",
     "metadata": {},
     "outputs": [
      {
       "output_type": "stream",
       "stream": "stdout",
       "text": [
        "If we want to have 'single quotes' in single quoted string we should escape them\n",
        "\n"
       ]
      }
     ],
     "prompt_number": 57
    },
    {
     "cell_type": "code",
     "collapsed": false,
     "input": [
      "str_4 = 'This is a string within single quotes that can contain \"double quotes\" as part of the string\\n'\n",
      "print str_4"
     ],
     "language": "python",
     "metadata": {},
     "outputs": [
      {
       "output_type": "stream",
       "stream": "stdout",
       "text": [
        "This is a string within single quotes that can contain \"double quotes\" as part of the string\n",
        "\n"
       ]
      }
     ],
     "prompt_number": 58
    },
    {
     "cell_type": "code",
     "collapsed": false,
     "input": [
      "str_6 = \"Similarly, if we want to have \\\"double quotes\\\" in double quoted string we should escape them\\n\"\n",
      "print str_6"
     ],
     "language": "python",
     "metadata": {},
     "outputs": [
      {
       "output_type": "stream",
       "stream": "stdout",
       "text": [
        "Similarly, if we want to have \"double quotes\" in double quoted string we should escape them\n",
        "\n"
       ]
      }
     ],
     "prompt_number": 59
    },
    {
     "cell_type": "code",
     "collapsed": false,
     "input": [
      "str_7 = \"hello\"\n",
      "str_8 = \"world\"\n",
      "print str_7 + \" \" + str_8 + \"!\" # note that + concatenates strings"
     ],
     "language": "python",
     "metadata": {},
     "outputs": [
      {
       "output_type": "stream",
       "stream": "stdout",
       "text": [
        "hello world!\n"
       ]
      }
     ],
     "prompt_number": 60
    },
    {
     "cell_type": "code",
     "collapsed": false,
     "input": [
      "str_9 = \"\"\"\n",
      "If we want to have multiple lines in the string\n",
      "then we can use triple quotes: This is a multiline\n",
      "string!\n",
      "\"\"\"\n",
      "print str_9"
     ],
     "language": "python",
     "metadata": {},
     "outputs": [
      {
       "output_type": "stream",
       "stream": "stdout",
       "text": [
        "\n",
        "If we want to have multiple lines in the string\n",
        "then we can use triple quotes: This is a multiline\n",
        "string!\n",
        "\n"
       ]
      }
     ],
     "prompt_number": 61
    },
    {
     "cell_type": "code",
     "collapsed": false,
     "input": [
      "str_19 = '''\n",
      "If we want to have multiple lines in the string\n",
      "then we can use triple quotes: This is a multiline\n",
      "string!\n",
      "'''\n",
      "print str_19\n",
      "    "
     ],
     "language": "python",
     "metadata": {},
     "outputs": [
      {
       "output_type": "stream",
       "stream": "stdout",
       "text": [
        "\n",
        "If we want to have multiple lines in the string\n",
        "then we can use triple quotes: This is a multiline\n",
        "string!\n",
        "\n"
       ]
      }
     ],
     "prompt_number": 62
    },
    {
     "cell_type": "code",
     "collapsed": false,
     "input": [
      "\n",
      "print 'Two or more string literals' '(i.e. the ones enclosed between quotes)' 'next to each other are automatically concatenated.\\n'"
     ],
     "language": "python",
     "metadata": {},
     "outputs": [
      {
       "output_type": "stream",
       "stream": "stdout",
       "text": [
        "Two or more string literals(i.e. the ones enclosed between quotes)next to each other are automatically concatenated.\n",
        "\n"
       ]
      }
     ],
     "prompt_number": 63
    },
    {
     "cell_type": "code",
     "collapsed": false,
     "input": [
      "# And if we want to assign the text to a variable, we put it within parentheses\n",
      "str_10 = ('Two or more string literals\\n' \n",
      "'(i.e. the ones enclosed between quotes)\\n' \n",
      "'next to each other are automatically concatenated.\\n')\n",
      "print str_10"
     ],
     "language": "python",
     "metadata": {},
     "outputs": [
      {
       "output_type": "stream",
       "stream": "stdout",
       "text": [
        "Two or more string literals\n",
        "(i.e. the ones enclosed between quotes)\n",
        "next to each other are automatically concatenated.\n",
        "\n"
       ]
      }
     ],
     "prompt_number": 6
    },
    {
     "cell_type": "code",
     "collapsed": false,
     "input": [
      "print \"e.g., type C:\\teaching\\ instead of C:\\\\teaching\\\\)\""
     ],
     "language": "python",
     "metadata": {},
     "outputs": [
      {
       "output_type": "stream",
       "stream": "stdout",
       "text": [
        "e.g., type C:\teaching\\ instead of C:\\teaching\\)\n"
       ]
      }
     ],
     "prompt_number": 10
    },
    {
     "cell_type": "markdown",
     "metadata": {},
     "source": [
      "Prefix strings with `r` to indicate a `raw` string, where there are no escape characters like \\t, \\n etc."
     ]
    },
    {
     "cell_type": "code",
     "collapsed": false,
     "input": [
      "str_11 = (r'And if we want to use the \\ character '\n",
      "r'without escaping it by typing \\\\ '\n",
      "r'(e.g., type C:\\teaching\\ instead of C:\\\\teaching\\\\) '\n",
      "r'then we use the r prefix for the string')\n",
      "print str_11"
     ],
     "language": "python",
     "metadata": {},
     "outputs": [
      {
       "output_type": "stream",
       "stream": "stdout",
       "text": [
        "And if we want to use the \\ character without escaping it by typing \\\\ (e.g., type C:\\teaching\\ instead of C:\\\\teaching\\\\) then we use the r prefix for the string\n"
       ]
      }
     ],
     "prompt_number": 15
    },
    {
     "cell_type": "markdown",
     "metadata": {},
     "source": [
      "Strings can be indexed (subscripted), with the first character having index 0. There is no separate character type; a character is simply a string of size one:"
     ]
    },
    {
     "cell_type": "code",
     "collapsed": false,
     "input": [
      "word = 'Python'"
     ],
     "language": "python",
     "metadata": {},
     "outputs": [],
     "prompt_number": 16
    },
    {
     "cell_type": "code",
     "collapsed": false,
     "input": [
      "word[0]  # character in position 0"
     ],
     "language": "python",
     "metadata": {},
     "outputs": [
      {
       "metadata": {},
       "output_type": "pyout",
       "prompt_number": 17,
       "text": [
        "'P'"
       ]
      }
     ],
     "prompt_number": 17
    },
    {
     "cell_type": "code",
     "collapsed": false,
     "input": [
      "\"jane\"[0]  # get the first character of the actual word"
     ],
     "language": "python",
     "metadata": {},
     "outputs": [
      {
       "metadata": {},
       "output_type": "pyout",
       "prompt_number": 20,
       "text": [
        "'j'"
       ]
      }
     ],
     "prompt_number": 20
    },
    {
     "cell_type": "code",
     "collapsed": false,
     "input": [
      "word[5]  # character in position 5"
     ],
     "language": "python",
     "metadata": {},
     "outputs": [
      {
       "metadata": {},
       "output_type": "pyout",
       "prompt_number": 28,
       "text": [
        "'n'"
       ]
      }
     ],
     "prompt_number": 28
    },
    {
     "cell_type": "markdown",
     "metadata": {},
     "source": [
      "Indices may also be negative numbers, to start counting from the right:"
     ]
    },
    {
     "cell_type": "code",
     "collapsed": false,
     "input": [
      "word[-1]  # last character"
     ],
     "language": "python",
     "metadata": {},
     "outputs": [
      {
       "metadata": {},
       "output_type": "pyout",
       "prompt_number": 24,
       "text": [
        "'n'"
       ]
      }
     ],
     "prompt_number": 24
    },
    {
     "cell_type": "code",
     "collapsed": false,
     "input": [
      "word[-2]  # second-last character\n"
     ],
     "language": "python",
     "metadata": {},
     "outputs": [
      {
       "metadata": {},
       "output_type": "pyout",
       "prompt_number": 25,
       "text": [
        "'o'"
       ]
      }
     ],
     "prompt_number": 25
    },
    {
     "cell_type": "code",
     "collapsed": false,
     "input": [
      "word[-6]"
     ],
     "language": "python",
     "metadata": {},
     "outputs": [
      {
       "metadata": {},
       "output_type": "pyout",
       "prompt_number": 26,
       "text": [
        "'P'"
       ]
      }
     ],
     "prompt_number": 26
    },
    {
     "cell_type": "markdown",
     "metadata": {},
     "source": [
      "In addition to indexing, slicing is also supported. While indexing is used to obtain individual characters, slicing allows you to obtain a substring:"
     ]
    },
    {
     "cell_type": "code",
     "collapsed": false,
     "input": [
      "word[0:2]  # characters from position 0 (included) to 2 (excluded)"
     ],
     "language": "python",
     "metadata": {},
     "outputs": [
      {
       "metadata": {},
       "output_type": "pyout",
       "prompt_number": 29,
       "text": [
        "'Py'"
       ]
      }
     ],
     "prompt_number": 29
    },
    {
     "cell_type": "code",
     "collapsed": false,
     "input": [
      "word[2:5]  # characters from position 2 (included) to 5 (excluded)"
     ],
     "language": "python",
     "metadata": {},
     "outputs": [
      {
       "metadata": {},
       "output_type": "pyout",
       "prompt_number": 30,
       "text": [
        "'tho'"
       ]
      }
     ],
     "prompt_number": 30
    },
    {
     "cell_type": "code",
     "collapsed": false,
     "input": [
      "word[2:]  # characters from position 2 (included) to the end"
     ],
     "language": "python",
     "metadata": {},
     "outputs": [
      {
       "metadata": {},
       "output_type": "pyout",
       "prompt_number": 31,
       "text": [
        "'thon'"
       ]
      }
     ],
     "prompt_number": 31
    },
    {
     "cell_type": "code",
     "collapsed": false,
     "input": [
      "word[:3]  # characters from beginning (position 0) to position 3 (excluded)"
     ],
     "language": "python",
     "metadata": {},
     "outputs": [
      {
       "metadata": {},
       "output_type": "pyout",
       "prompt_number": 32,
       "text": [
        "'Pyt'"
       ]
      }
     ],
     "prompt_number": 32
    },
    {
     "cell_type": "markdown",
     "metadata": {},
     "source": [
      "#### Exercise\n",
      "\n",
      "* Assign the string 'Dealing with Data' to a Python variable. \n",
      "* Print the word 'Dealing' by using the indexing/slicing approach.\n",
      "* Print the word 'Data' by using the negative indexing/slicing approach."
     ]
    },
    {
     "cell_type": "code",
     "collapsed": false,
     "input": [
      "# your own code here\n",
      "phrase = 'Dealing with Data'\n",
      "print phrase[0:7]\n",
      "print phrase[-4:]"
     ],
     "language": "python",
     "metadata": {},
     "outputs": [
      {
       "output_type": "stream",
       "stream": "stdout",
       "text": [
        "Dealing\n",
        "Data\n"
       ]
      }
     ],
     "prompt_number": 42
    },
    {
     "cell_type": "markdown",
     "metadata": {},
     "source": [
      "###Integer:\n",
      "Positive and negative whole numbers"
     ]
    },
    {
     "cell_type": "code",
     "collapsed": false,
     "input": [
      "int_1 = 1\n",
      "int_2 = -2\n",
      "int_3 = 100\n",
      "int_4 = 33\n",
      "\n",
      "print int_1 + int_2 + int_3 # for integers, + is just \"plus\"\n",
      "print int_3 / int_4\n",
      "print str(int_1)+str(int_2)"
     ],
     "language": "python",
     "metadata": {},
     "outputs": [
      {
       "output_type": "stream",
       "stream": "stdout",
       "text": [
        "99\n",
        "3\n",
        "1-2\n"
       ]
      }
     ],
     "prompt_number": 50
    },
    {
     "cell_type": "markdown",
     "metadata": {},
     "source": [
      "###Floating Point Numbers:\n",
      "Decimal numbers, representations of fractions, and \"real-valued numbers\""
     ]
    },
    {
     "cell_type": "code",
     "collapsed": false,
     "input": [
      "float_1 = 1.2\n",
      "float_2 = -4.0\n",
      "float_3 = 10.0\n",
      "\n",
      "print float_1 + float_2 + float_3"
     ],
     "language": "python",
     "metadata": {},
     "outputs": [
      {
       "output_type": "stream",
       "stream": "stdout",
       "text": [
        "7.2\n"
       ]
      }
     ],
     "prompt_number": 51
    },
    {
     "cell_type": "markdown",
     "metadata": {},
     "source": [
      "###Booleans:\n",
      "\n",
      "Booleans represent the truth or success of a statement, and are commonly used for branching and checking status in code. "
     ]
    },
    {
     "cell_type": "code",
     "collapsed": false,
     "input": [
      "bool_1 = True \n",
      "bool_2 = False\n",
      "\n",
      "print bool_1\n",
      "print bool_2"
     ],
     "language": "python",
     "metadata": {},
     "outputs": [
      {
       "output_type": "stream",
       "stream": "stdout",
       "text": [
        "True\n",
        "False\n"
       ]
      }
     ],
     "prompt_number": 52
    },
    {
     "cell_type": "markdown",
     "metadata": {},
     "source": [
      "Operations on Primitive Data Types\n",
      "----------------------------------\n",
      "\n",
      "Python provides a variety of operations for performing common tasks on the primitive data types presented above. Of course, this list isn't complete, and the core functionality provided by python is greatly extended by library code, some of which will be discussed below. Note that operations can be performed either on \"literal primitives\" or on variables storing some primitive. \n",
      "\n",
      "###Operations on Strings \n",
      "We've already seen one of the most common string operators, `+`, used for string concatenation, the indexing operation to get specific characters, and the slicing operation to get substrings. Below are some of the more commonly used string operations:\n",
      "\n",
      "+ `+` : concatenate two strings\n",
      "+ `len(str)`: length of a string, number of characters\n",
      "+ `str.upper()`: returns an uppercase version of a string\n",
      "+ `str.lower()`: returns a lowercase version of a string\n",
      "+ `haystack.index(needle)`: searches haystack for needle, prints the position of the first occurrence, indexed from 0. Note, throws an error if needle isn't found.\n",
      "+ `str_1.count(str_2)`: counts the number of occurrences of one string in another.\n",
      "+ `haystack.startswith(needle)`: does a the haystack string start with the needle string?\n",
      "+ `haystack.endswith(needle)`: does a the haystack string end with the needle string?\n",
      "+ `str_1.split(str_2)`: split the first string at every occurrence of the second string. Outputs a list (see below).\n",
      "+ `==`: are the two operand strings the same?\n",
      "+ `str.strip()`: remove any whitespace from the left or right of the string, including newlines. \n",
      "\n",
      "A better list of string operations is [available here](http://docs.python.org/2/library/string.html)."
     ]
    },
    {
     "cell_type": "code",
     "collapsed": false,
     "input": [
      "word = \"Python is the word. And on and on and on and on...\" \n",
      "print word\n",
      "print \"The length of the word above is \", len(word), \"characters\"\n",
      "print word.upper()\n",
      "f = word.index(\"on\")\n",
      "print \"The first time that we see the string on is at position\", word.index(\"on\")\n",
      "print \"The second time that we see the string on is at position\", word.index(\"on\", f+1)\n",
      "print  \"We see the string on that many times: \",word.count(\"on\")"
     ],
     "language": "python",
     "metadata": {},
     "outputs": [
      {
       "output_type": "stream",
       "stream": "stdout",
       "text": [
        "Python is the word. And on and on and on and on...\n",
        "The length of the word above is  50 characters\n",
        "PYTHON IS THE WORD. AND ON AND ON AND ON AND ON...\n",
        "The first time that we see the string on is at position 4\n",
        "The second time that we see the string on is at position 24\n",
        "We see the string on that many times:  5\n"
       ]
      }
     ],
     "prompt_number": 70
    },
    {
     "cell_type": "code",
     "collapsed": false,
     "input": [
      "print \"concatenation:\"\n",
      "print str_1 + \" \" + str_2\n",
      "print str_1 + \" everybody\"\n",
      "\n",
      "print \"length:\"\n",
      "print len(str_1)\n",
      "print len(str_1 + \" \" + str_2)\n",
      "\n",
      "print \"string casing:\"\n",
      "print str_1.upper()\n",
      "print \"HELLO\".lower()\n",
      "\n",
      "print \"string indexing:\"\n",
      "print \"hello\".index(\"ll\")\n",
      "print \"hello\".upper().index(\"LL\")\n",
      "\n",
      "print \"string count:\"\n",
      "print str_1.count(\"l\")\n",
      "print str_1.count(\"ll\")\n",
      "\n",
      "print \"starts with & endswith:\"\n",
      "print \"hello\".startswith(\"he\")\n",
      "print \"hello\".endswith(\"world\")\n",
      "\n",
      "print \"split:\"\n",
      "print \"practical data science\".split(\" \")\n",
      "print \"hello\".split(\" \")\n",
      "\n",
      "print \"equality:\"\n",
      "print str_1 == \"hello\"\n",
      "print str_1 == \"HELLO\""
     ],
     "language": "python",
     "metadata": {},
     "outputs": [
      {
       "output_type": "stream",
       "stream": "stdout",
       "text": [
        "concatenation:\n",
        "Hello World! Hello World!\n",
        "Hello World Twice!\n",
        "\n",
        "Hello World! everybody\n",
        "length:\n",
        "12\n",
        "45\n",
        "string casing:\n",
        "HELLO WORLD!\n",
        "hello\n",
        "string indexing:\n",
        "2\n",
        "2\n",
        "string count:\n",
        "3\n",
        "1\n",
        "starts with & endswith:\n",
        "True\n",
        "False\n",
        "split:\n",
        "['practical', 'data', 'science']\n",
        "['hello']\n",
        "equality:\n",
        "False\n",
        "False\n"
       ]
      }
     ],
     "prompt_number": 71
    },
    {
     "cell_type": "markdown",
     "metadata": {},
     "source": [
      "###Operations on Numeric Types:\n",
      "There are a bunch of common mathematical operations available on numeric types in python. If an operation is being performed on two integers, then the output will also be an integer. If one of the operands is a float, then the remaining operand will be cast into a float, and the result will likewise be a float.\n",
      "\n",
      "+ `+`: plus, add two numbers\n",
      "+ `-`: minus, subtract two numbers. If put before a single numeric value, takes the negative of that value. \n",
      "+ `*`: multiply two numbers\n",
      "+ `/`: divide the first operand by the second.\n",
      "+ `%`: modulo, what is the remainder when the first number is divided by the second?"
     ]
    },
    {
     "cell_type": "code",
     "collapsed": false,
     "input": [
      "print \"addition:\"\n",
      "print 1+1\n",
      "print 1.5 + 1\n",
      "\n",
      "print \"subtraction:\"\n",
      "print 1-1\n",
      "print 1-1.0\n",
      "\n",
      "print \"negation:\"\n",
      "x = 5\n",
      "print -x\n",
      "\n",
      "print \"multiplication:\"\n",
      "print 3*3\n",
      "print 2*2.0\n",
      "\n",
      "print \"division:\"\n",
      "print 5/2 # integer division!\n",
      "print 5/2.0\n",
      "\n",
      "print \"modulo:\"\n",
      "print 5%2\n",
      "print 5.5%2\n"
     ],
     "language": "python",
     "metadata": {},
     "outputs": [
      {
       "output_type": "stream",
       "stream": "stdout",
       "text": [
        "addition:\n",
        "2\n",
        "2.5\n",
        "subtraction:\n",
        "0\n",
        "0.0\n",
        "negation:\n",
        "-5\n",
        "multiplication:\n",
        "9\n",
        "4.0\n",
        "division:\n",
        "2\n",
        "2.5\n",
        "modulo:\n",
        "1\n",
        "1.5\n"
       ]
      }
     ],
     "prompt_number": 72
    },
    {
     "cell_type": "code",
     "collapsed": false,
     "input": [
      "males = 8\n",
      "females = 10\n",
      "\n",
      "print \"percentage of men:\"\n",
      "print males/(males+females)\n",
      "print 1.0*males/(males+females)"
     ],
     "language": "python",
     "metadata": {},
     "outputs": [
      {
       "output_type": "stream",
       "stream": "stdout",
       "text": [
        "percentage of men:\n",
        "0\n",
        "0.444444444444\n"
       ]
      }
     ],
     "prompt_number": 73
    },
    {
     "cell_type": "markdown",
     "metadata": {},
     "source": [
      "There are also a bunch of comparison operators on numeric values:\n",
      "\n",
      "+ `==`: equality of values\n",
      "+ `<`: less than\n",
      "+ `<=`: less than or equal to\n",
      "+ `>`: greater than\n",
      "+ `>=`: greater than or equal to\n",
      "+ `!=`: not equal to, different than\n",
      "\n",
      "These all return a boolean with a value that depends on the outcome of the comparison. "
     ]
    },
    {
     "cell_type": "code",
     "collapsed": false,
     "input": [
      "print \"equals:\"\n",
      "print 1 == 2\n",
      "print 1 == 1\n",
      "# Beware though when comparing floats, as small \n",
      "# differences may not be captured. \n",
      "# We have sixteen 0's in the number below\n",
      "print 1.0000000000000001 == 1.0\n",
      "\n",
      "print \"comparison:\"\n",
      "print 1 > 0\n",
      "print 1 > 1\n",
      "print 1.0 > 1\n",
      "print 1 >= 1\n",
      "print 1.0 != 1"
     ],
     "language": "python",
     "metadata": {},
     "outputs": [
      {
       "output_type": "stream",
       "stream": "stdout",
       "text": [
        "equals:\n",
        "False\n",
        "True\n",
        "True\n",
        "comparison:\n",
        "True\n",
        "False\n",
        "False\n",
        "True\n",
        "False\n"
       ]
      }
     ],
     "prompt_number": 74
    },
    {
     "cell_type": "code",
     "collapsed": false,
     "input": [
      "# Fibonacci series:\n",
      "# the sum of two elements defines the next\n",
      "a = 0\n",
      "b = 1\n",
      "while b < 20: \n",
      "    print b\n",
      "    t = a # temporary variable\n",
      "    a = b\n",
      "    b = t+b"
     ],
     "language": "python",
     "metadata": {},
     "outputs": [
      {
       "output_type": "stream",
       "stream": "stdout",
       "text": [
        "1\n",
        "1\n",
        "2\n",
        "3\n",
        "5\n",
        "8\n",
        "13\n"
       ]
      }
     ],
     "prompt_number": 75
    },
    {
     "cell_type": "markdown",
     "metadata": {},
     "source": [
      "###Boolean Operations:\n",
      "\n",
      "Frequently, one wants to combine or modify boolean values. Python has several operations for just this purpose:\n",
      "\n",
      "+ `not a`: returns the opposite value of `a`.\n",
      "+ `a and b`: returns true if and only if both `a` and `b` are true.\n",
      "+ `a or b`: returns true either `a` or `b` are true, or both.\n",
      "\n",
      "Like mathematical expressions, boolean expressions can be nested using parentheses. "
     ]
    },
    {
     "cell_type": "code",
     "collapsed": false,
     "input": [
      "var1 = 5\n",
      "var2 = 6\n",
      "var3 = 7 \n",
      "\n",
      "print (var1 + var2 == 11 and var2 + var3 == 13)\n",
      "print (var1 + var2 == 12 and var2 + var3 == 13)\n",
      "print (var1 + var2 == 12 or var2 + var3 == 13)\n"
     ],
     "language": "python",
     "metadata": {},
     "outputs": [
      {
       "output_type": "stream",
       "stream": "stdout",
       "text": [
        "True\n",
        "False\n",
        "True\n"
       ]
      }
     ],
     "prompt_number": 76
    },
    {
     "cell_type": "markdown",
     "metadata": {},
     "source": [
      "###String Formatting:\n",
      "Often one wants to embed other information into strings, sometimes with special formatting constraints. In python, one may insert special formatting characters into strings that convey what type of data should be inserted and where, and how the \"stringified\" form should be formatted. For instance, one may wish to insert an integer into a string:"
     ]
    },
    {
     "cell_type": "code",
     "collapsed": false,
     "input": [
      "message = 8\n",
      "print \"To be or not %d be\" % message"
     ],
     "language": "python",
     "metadata": {},
     "outputs": [
      {
       "output_type": "stream",
       "stream": "stdout",
       "text": [
        "To be or not 8 be\n"
       ]
      }
     ],
     "prompt_number": 78
    },
    {
     "cell_type": "markdown",
     "metadata": {},
     "source": [
      "Note the `%d` formatting (or conversion) specifier in the string. This is stating that you wish to insert an integer value (more on these conversion specifiers below). Then the value you wish to insert into the string is separated by a `%` character placed after the string. If you wish to insert more than one value into the string being formatted, they can be placed in a comma separated list, surrounded by parentheses after the `%`:"
     ]
    },
    {
     "cell_type": "code",
     "collapsed": false,
     "input": [
      "val1 = 1\n",
      "val2 = 2\n",
      "print \"%d be or not %d be\" % (val1, val2)\n",
      "name = \"Jane\"\n",
      "print \"Hello %s\" % name"
     ],
     "language": "python",
     "metadata": {},
     "outputs": [
      {
       "output_type": "stream",
       "stream": "stdout",
       "text": [
        "1 be or not 2 be\n",
        "Hello Jane\n"
       ]
      }
     ],
     "prompt_number": 82
    },
    {
     "cell_type": "markdown",
     "metadata": {},
     "source": [
      "In detail, a conversion specifier contains two or more characters which must occur in order with the following components:\n",
      "\n",
      "+ The `%` character which marks the start of the specifier\n",
      "+ An optional minimum field width. The value being read is padded to be at least this width\n",
      "+ An optional precision value, given as a \"`.`\" followed by the number of digits precision. \n",
      "+ Conversion specifier flag, which defines the type of the variable that we are printing (specified below). "
     ]
    },
    {
     "cell_type": "code",
     "collapsed": false,
     "input": [
      "print \"Result: %06.2f\" % (100.0/23)  # with alignment to right\n",
      "print \"Result: %6.2f\" % (100.0/23)    # with alignment to right\n",
      "print \"Result: %.2f\" % (100.0/23)      # without alignment\n",
      "print \"Result: %.4f\" % (100.0/23)      # without alignment"
     ],
     "language": "python",
     "metadata": {},
     "outputs": [
      {
       "output_type": "stream",
       "stream": "stdout",
       "text": [
        "Result: 004.35\n",
        "Result:   4.35\n",
        "Result: 4.35\n",
        "Result: 4.3478\n"
       ]
      }
     ],
     "prompt_number": 83
    },
    {
     "cell_type": "markdown",
     "metadata": {},
     "source": [
      "Some common conversion flag characters are:\n",
      "\n",
      "+ `d`: Signed integer decimal.\t\n",
      "+ `i`: Signed integer decimal.\t\n",
      "+ `e`: Floating point exponential format (lowercase).\n",
      "+ `E`: Floating point exponential format (uppercase).\n",
      "+ `f`: Floating point decimal format.\n",
      "+ `c`: Single character (accepts integer or single character string).\t\n",
      "+ `r`: String (converts any python object using repr()).\n",
      "+ `s`: String (converts any python object using str())."
     ]
    },
    {
     "cell_type": "code",
     "collapsed": false,
     "input": [
      "print \"%d %s or not %04.3f %c\" % (2, \"be\", 10.0/4, 'b')"
     ],
     "language": "python",
     "metadata": {},
     "outputs": [
      {
       "output_type": "stream",
       "stream": "stdout",
       "text": [
        "2 be or not 2.500 b\n"
       ]
      }
     ],
     "prompt_number": 85
    },
    {
     "cell_type": "markdown",
     "metadata": {},
     "source": [
      "For a more detailed treatment on string formatting options, [see here](http://docs.python.org/release/2.5.2/lib/typesseq-strings.html)."
     ]
    },
    {
     "cell_type": "markdown",
     "metadata": {},
     "source": [
      "Data Structures\n",
      "---------------\n",
      "\n",
      "We have covered in detail much of the basics of python's primitive data types. Its now useful to consider how these basic types can be collected in ways that are meaningful and useful for a variety of tasks. Data structures are a fundamental component of programming, a collection of elements of data that adhere to certain properties, depending on the type. In these notes, we'll present three basic data structures, the list, the set, and the dictionary. Python data structures are very rich, and beyond the scope of this simple primer. Please see [the documentation](http://docs.python.org/2/tutorial/datastructures.html) for a more complete view.\n",
      "\n",
      "###List:\n",
      "A list, sometimes called and array or a vector is an ordered collection of values. The value of a particular element in a list is retrieved by querying for a specific index into an array. Lists allow duplicate values, but but indicies are unique. In python, like most programming languages, list indices start at 0, that is, to get the first element in a list, request the element at index 0. Lists provide very fast access to elements at specific positions, but are inefficient at \"membership queries,\" determining if an element is in the array. \n",
      "\n",
      "In python, lists are specified by square brackets, `[ ]`, containing zero or more values, separated by commas. Lists are the most common data structure, and are often generated as a result of other functions, for instance, `a_string.split(\" \")`.\n",
      "\n",
      "To query a specific value from a list, pass in the requested index into square brackets following the name of the list. Negative indices can be used to traverse the list from the right."
     ]
    },
    {
     "cell_type": "code",
     "collapsed": false,
     "input": [
      "a_list = [1, 2, 3, 0, 5, 10, 11,12]\n",
      "a_list"
     ],
     "language": "python",
     "metadata": {},
     "outputs": [
      {
       "metadata": {},
       "output_type": "pyout",
       "prompt_number": 90,
       "text": [
        "[1, 2, 3, 0, 5, 10, 11, 12]"
       ]
      }
     ],
     "prompt_number": 90
    },
    {
     "cell_type": "code",
     "collapsed": false,
     "input": [
      "a_list = [1, 2, 3, 0, 5, 10, 11]\n",
      "another_list = [\"a\", \"b\", \"c\"]\n",
      "empty_list = []\n",
      "mixed_list = [1, \"a\"]\n",
      "\n",
      "print another_list[1]\n",
      "print a_list[-1] # indexing from the right\n",
      "print a_list[2:]\n",
      "print another_list[-1]"
     ],
     "language": "python",
     "metadata": {},
     "outputs": [
      {
       "output_type": "stream",
       "stream": "stdout",
       "text": [
        "b\n",
        "11\n",
        "[3, 0, 5, 10, 11]\n",
        "c\n"
       ]
      }
     ],
     "prompt_number": 92
    },
    {
     "cell_type": "code",
     "collapsed": false,
     "input": [
      "a_list.append(\"jane\")\n",
      "print a_list\n",
      "a_list.append(another_list)\n",
      "print a_list"
     ],
     "language": "python",
     "metadata": {},
     "outputs": [
      {
       "output_type": "stream",
       "stream": "stdout",
       "text": [
        "[1, 2, 3, 0, 5, 10, 11, 'jane', 'jane', 'jane']\n",
        "[1, 2, 3, 0, 5, 10, 11, 'jane', 'jane', 'jane', ['a', 'b', 'c']]\n"
       ]
      }
     ],
     "prompt_number": 95
    },
    {
     "cell_type": "markdown",
     "metadata": {},
     "source": [
      "Some common functionality of lists:\n",
      "\n",
      "+ `list.append(x)`: add an element ot the end of a list\n",
      "+ `list_1.extend(list_2)`: add all elements in the second list to the end of the first list\n",
      "+ `list.insert(index, x)`: insert element x into the list at the specified index. Elements to the right of this index are shifted over\n",
      "+ `list.pop(index)`: remove the element at the specified position\n",
      "+ `list.index(x)`: looks through the list to find the specified element, returning it's position if it's found, else throws an error\n",
      "+ `list.count(x)`: counts the number of occurrences of the input element\n",
      "+ `list.sort()`: sorts the list of items\n",
      "+ `list.reverse()`: reverses the order of the list\n",
      "+ `len(list)`: returns the number of elements in the list"
     ]
    },
    {
     "cell_type": "markdown",
     "metadata": {},
     "source": [
      "#### Exercise\n",
      "\n",
      "* Add the letter \"d\" in `another_list` and print the result\n",
      "* Add the letter \"c\" in `another_list` and print the result\n",
      "* If you search for \"c\" in `another_list` using the list.index(x) command, what is the result?\n",
      "* Sort `another_list` and print the result\n",
      "* Use the `split()` operation for strings (that we learned before) and count the number of words in the sentence \"Python is the word. And on and on and on and on...\" "
     ]
    },
    {
     "cell_type": "code",
     "collapsed": false,
     "input": [
      "# your code here\n",
      "another_list.append(\"d\")\n",
      "print another_list\n",
      "another_list.append(\"c\")\n",
      "print another_list\n",
      "print another_list.index(\"c\")\n",
      "another_list.sort()\n",
      "print another_list\n",
      "s = \"Python is the word. And on and on and on and on...\"\n",
      "split = s.split(\" \")\n",
      "print split\n",
      "print len(split)\n"
     ],
     "language": "python",
     "metadata": {},
     "outputs": [
      {
       "output_type": "stream",
       "stream": "stdout",
       "text": [
        "['a', 'b', 'c', 'c', 'c', 'c', 'c', 'c', 'd', 'd', 'd', 'd', 'd', 'd']\n",
        "['a', 'b', 'c', 'c', 'c', 'c', 'c', 'c', 'd', 'd', 'd', 'd', 'd', 'd', 'c']\n",
        "2\n",
        "['a', 'b', 'c', 'c', 'c', 'c', 'c', 'c', 'c', 'd', 'd', 'd', 'd', 'd', 'd']\n",
        "['Python', 'is', 'the', 'word.', 'And', 'on', 'and', 'on', 'and', 'on', 'and', 'on...']\n",
        "12\n"
       ]
      }
     ],
     "prompt_number": 101
    },
    {
     "cell_type": "markdown",
     "metadata": {},
     "source": [
      "###Set:\n",
      "\n",
      "A set is a data structure where all elements are unique. Sets are unordered. In fact, the order of the elements observed when printing a set might change at different points during a programs execution, depending on the state of python's internal representation of the set. Sets are ideal for membership queries, for instance, is a user amongst those users who have received a promotion? \n",
      "\n",
      "Sets are specified by curly braces, `{ }`, containing one or more comma separated values. To specify an empty list, you can use the alternative construct, `set()`."
     ]
    },
    {
     "cell_type": "code",
     "collapsed": false,
     "input": [
      "some_set = {1, 2, 3, 4}\n",
      "another_set = {4, 5, 6}\n",
      "empty_set = set()"
     ],
     "language": "python",
     "metadata": {},
     "outputs": [],
     "prompt_number": 102
    },
    {
     "cell_type": "markdown",
     "metadata": {},
     "source": [
      "We can also create a set from a list:"
     ]
    },
    {
     "cell_type": "code",
     "collapsed": false,
     "input": [
      "my_list = [1, 2, 3, 0, 5, 10, 11, 1, 5]\n",
      "your_list = [1, 2, 3, 0, 12, 13]\n",
      "my_set = set(my_list)\n",
      "your_set = set(your_list)\n",
      "print my_set\n",
      "print my_set.issubset(your_set)"
     ],
     "language": "python",
     "metadata": {},
     "outputs": [
      {
       "output_type": "stream",
       "stream": "stdout",
       "text": [
        "set([0, 1, 2, 3, 5, 10, 11])\n",
        "False\n"
       ]
      }
     ],
     "prompt_number": 103
    },
    {
     "cell_type": "markdown",
     "metadata": {},
     "source": [
      "The easiest way to check for membership in a set is to use the `in` keyword, checking if a needle is \"`in`\" the haystack set."
     ]
    },
    {
     "cell_type": "code",
     "collapsed": false,
     "input": [
      "print \"The value 1 appears in the variable some_set:\", 1 in some_set\n",
      "print \"The value 0 appears in the variable some_set:\", 0 in some_set"
     ],
     "language": "python",
     "metadata": {},
     "outputs": [
      {
       "output_type": "stream",
       "stream": "stdout",
       "text": [
        "The value 1 appears in the variable some_set: True\n",
        "The value 0 appears in the variable some_set: False\n"
       ]
      }
     ],
     "prompt_number": 104
    },
    {
     "cell_type": "markdown",
     "metadata": {},
     "source": [
      "We also have the \"`not in`\" operator"
     ]
    },
    {
     "cell_type": "code",
     "collapsed": false,
     "input": [
      "val = 5\n",
      "print \"Check that the value %d does not appear in the variable some_set:\" % val, (val not in some_set)\n",
      "val = 1\n",
      "print \"Check that the value %d does not appear in the variable some_set:\" % val, (val not in some_set)\n"
     ],
     "language": "python",
     "metadata": {},
     "outputs": [
      {
       "output_type": "stream",
       "stream": "stdout",
       "text": [
        "Check that the value 5 does not appear in the variable some_set: True\n",
        "Check that the value 1 does not appear in the variable some_set: False\n"
       ]
      }
     ],
     "prompt_number": 105
    },
    {
     "cell_type": "markdown",
     "metadata": {},
     "source": [
      "Some other common set functionality:\n",
      "\n",
      "+ `set_a.add(x)`: add an element to a set\n",
      "+ `set_a.remove(x)`: remove an element from a set\n",
      "+ `set_a - set_b`: elements in a but not in b. Equivalent to `set_a.difference(set_b)`\n",
      "+ `set_a | set_b`: elements in a or b. Equivalent to `set_a.union(set_b)`\n",
      "+ `set_a & set_b`: elements in both a and b. Equivalent to `set_a.intersection(set_b)`\n",
      "+ `set_a ^ set_b`: elements in a or b but not both. Equivalent to `set_a.symmetric_difference(set_b)` \n",
      "+ `set_a <= set_b`:\ttests whether every element in set_a is in set_b. Equivalent to `set_a.issubset(set_b)`\n"
     ]
    },
    {
     "cell_type": "markdown",
     "metadata": {},
     "source": [
      "#### Exercise\n",
      "\n",
      "Try the above yourself using the `some_set` and `another_set` variables from above"
     ]
    },
    {
     "cell_type": "code",
     "collapsed": false,
     "input": [
      "# your code here\n",
      "some_set.add(5)\n",
      "print some_set\n",
      "some_set.remove(5)\n",
      "print some_set\n",
      "print \"difference: \", some_set - another_set\n",
      "print \"union: \", some_set | another_set\n",
      "print \"intersection: \", some_set & another_set\n"
     ],
     "language": "python",
     "metadata": {},
     "outputs": [
      {
       "output_type": "stream",
       "stream": "stdout",
       "text": [
        "set([1, 2, 3, 4, 5])\n",
        "set([1, 2, 3, 4])\n",
        "difference:  set([1, 2, 3])\n",
        "union:  set([1, 2, 3, 4, 5, 6])\n",
        "intersection:  set([4])\n"
       ]
      }
     ],
     "prompt_number": 113
    },
    {
     "cell_type": "markdown",
     "metadata": {},
     "source": [
      "### Tuples:\n",
      "\n",
      "A tuple consists of a number of values separated by commas, for instance:\n",
      "Although it's similar to list, it cannot be modified, it cannot be added, removed..."
     ]
    },
    {
     "cell_type": "code",
     "collapsed": false,
     "input": [
      "t = 12345, 54321, 'hello!'\n",
      "print t"
     ],
     "language": "python",
     "metadata": {},
     "outputs": [
      {
       "output_type": "stream",
       "stream": "stdout",
       "text": [
        "(12345, 54321, 'hello!')\n"
       ]
      }
     ],
     "prompt_number": 114
    },
    {
     "cell_type": "code",
     "collapsed": false,
     "input": [
      "print t[0]"
     ],
     "language": "python",
     "metadata": {},
     "outputs": [
      {
       "output_type": "stream",
       "stream": "stdout",
       "text": [
        "12345\n"
       ]
      }
     ],
     "prompt_number": 115
    },
    {
     "cell_type": "code",
     "collapsed": false,
     "input": [
      "print \"Two elements. The first one: %s and the second one %s:\" % (\"NYU\", \"stern\")"
     ],
     "language": "python",
     "metadata": {},
     "outputs": [
      {
       "output_type": "stream",
       "stream": "stdout",
       "text": [
        "Two elements. The first one: NYU and the second one stern:\n"
       ]
      }
     ],
     "prompt_number": 116
    },
    {
     "cell_type": "markdown",
     "metadata": {},
     "source": [
      "Let's rewrite the Fibonacci script from above using tuples, to avoid the temporary variable t:"
     ]
    },
    {
     "cell_type": "code",
     "collapsed": false,
     "input": [
      "# Fibonacci series:\n",
      "# the sum of two elements defines the next\n",
      "a = 0\n",
      "b = 1\n",
      "while b < 20: \n",
      "    print b\n",
      "    t = a # temporary variable\n",
      "    a = b\n",
      "    b = t+b"
     ],
     "language": "python",
     "metadata": {},
     "outputs": [
      {
       "output_type": "stream",
       "stream": "stdout",
       "text": [
        "1\n",
        "1\n",
        "2\n",
        "3\n",
        "5\n",
        "8\n",
        "13\n"
       ]
      }
     ],
     "prompt_number": 117
    },
    {
     "cell_type": "code",
     "collapsed": false,
     "input": [
      "# Fibonacci series:\n",
      "# the sum of two elements defines the next\n",
      "a = 0\n",
      "b = 1\n",
      "while b < 20:\n",
      "    print b\n",
      "    (a, b) = (b, a+b)"
     ],
     "language": "python",
     "metadata": {},
     "outputs": [
      {
       "output_type": "stream",
       "stream": "stdout",
       "text": [
        "1\n",
        "1\n",
        "2\n",
        "3\n",
        "5\n",
        "8\n",
        "13\n"
       ]
      }
     ],
     "prompt_number": 118
    },
    {
     "cell_type": "markdown",
     "metadata": {},
     "source": [
      "###Dictionaries:\n",
      "\n",
      "Dictionaries, sometimes called dicts, maps, or, rarely, hashes are data structures containing key-value pairs. Dictionaries have a set of unique keys and are used to retrieve the value information associated with these keys. For instance, a dictionary might be used to store for each user, that user's location, or for a product id, the description associated with that product. Lookup into a dictionary is very efficient, and because these data structures are very common, they are frequently used and encountered in practice. \n",
      "\n",
      "Dictionaries are specified by curly braces, `{ }`, containing zero or more comma separated key-value pairs, where the keys and values are separated by a colon, `:`. Like a list, values for a particular key are retrieved by passing the query key into square brackets."
     ]
    },
    {
     "cell_type": "code",
     "collapsed": false,
     "input": [
      "a_dict = {\"a\":1, \"b\":2, \"c\":3, \"c\": 4}\n",
      "another_dict = {\"c\":5, \"d\":6}\n",
      "empty_dict = {}\n",
      "print a_dict[\"c\"]"
     ],
     "language": "python",
     "metadata": {},
     "outputs": [
      {
       "output_type": "stream",
       "stream": "stdout",
       "text": [
        "4\n"
       ]
      }
     ],
     "prompt_number": 119
    },
    {
     "cell_type": "code",
     "collapsed": false,
     "input": [
      "a_dict = {\"a\": 1, \"b\": 2, \"c\" : 3}"
     ],
     "language": "python",
     "metadata": {},
     "outputs": []
    },
    {
     "cell_type": "markdown",
     "metadata": {},
     "source": [
      "Like the set, the easiest way to check if a particular key is in a map is through the `in` keyword:"
     ]
    },
    {
     "cell_type": "code",
     "collapsed": false,
     "input": [
      "print \"a\" in a_dict\n",
      "print \"b\" in another_dict"
     ],
     "language": "python",
     "metadata": {},
     "outputs": [
      {
       "output_type": "stream",
       "stream": "stdout",
       "text": [
        "True\n",
        "False\n"
       ]
      }
     ],
     "prompt_number": 120
    },
    {
     "cell_type": "markdown",
     "metadata": {},
     "source": [
      "Some common operations on dictionaries:\n",
      "\n",
      "+ `dict.keys()`: returns a list containing the keys of a dictionary\n",
      "+ `dict.values()`: returns a list containing the values in a dictionary\n",
      "+ `dict.pop(x)`: removes the key and its associated value from the dictionary"
     ]
    },
    {
     "cell_type": "markdown",
     "metadata": {},
     "source": [
      "#### Exercise\n",
      "\n",
      "* Find the common keys in `a_dict` and `another_dict`\n",
      "* Find the common values in `a_dict` and `another_dict` \n"
     ]
    },
    {
     "cell_type": "code",
     "collapsed": false,
     "input": [
      "# your code here\n",
      "a_dict = {\"a\":1, \"b\":2, \"c\":3, \"c\": 4}\n",
      "another_dict = {\"c\":5, \"d\":2}\n",
      "keys1 = a_dict.keys()\n",
      "keys2 = another_dict.keys()\n",
      "values1 = a_dict.values()\n",
      "values2 = another_dict.values()\n",
      "\n",
      "print keys1\n",
      "print keys2\n",
      "\n",
      "print set(keys1) & set(keys2)\n",
      "print set(values1) & set(values2)"
     ],
     "language": "python",
     "metadata": {},
     "outputs": [
      {
       "output_type": "stream",
       "stream": "stdout",
       "text": [
        "['a', 'c', 'b']\n",
        "['c', 'd']\n",
        "set(['c'])\n",
        "set([2])\n"
       ]
      }
     ],
     "prompt_number": 128
    },
    {
     "cell_type": "markdown",
     "metadata": {},
     "source": [
      "###Combining (Nesting) Data Structures:\n",
      "\n",
      "There are many opportunities to combine data types in python. Lists can be populated by arbitrary data structures. Similarly, you can use any type as the value in a dictionary. However, the elements of sets, and the keys of dictionaries need to have some special properties that allow the mechanics of the data structure to determine how to store the element.\n",
      "\n",
      "Aside: to use a particular element in a set or as a key in a dictionary, it must define a [hash function](http://en.wikipedia.org/wiki/Hash_function), `__hash__`. In a nutshell, a hash function maps a data element to a number in a predefined range, based on the characteristics of that element. Because the contents of a data structure might change, so too would the value of their associated `__hash__` function, causing problems for the algorithms powering sets and dictionaries."
     ]
    },
    {
     "cell_type": "code",
     "collapsed": false,
     "input": [
      "print \"lists of lists\"\n",
      "lol = [[1, 2, 3], [4, 5, 6, 7]]\n",
      "lol_2 = [[4, 5, 6], [7, 8, 9]]\n",
      "print lol"
     ],
     "language": "python",
     "metadata": {},
     "outputs": [
      {
       "output_type": "stream",
       "stream": "stdout",
       "text": [
        "lists of lists\n",
        "[[1, 2, 3], [4, 5, 6, 7]]\n"
       ]
      }
     ],
     "prompt_number": 129
    },
    {
     "cell_type": "code",
     "collapsed": false,
     "input": [
      "print \"lists of lists of lists\"\n",
      "lolol = [lol, lol_2]\n",
      "print lolol"
     ],
     "language": "python",
     "metadata": {},
     "outputs": [
      {
       "output_type": "stream",
       "stream": "stdout",
       "text": [
        "lists of lists of lists\n",
        "[[[1, 2, 3], [4, 5, 6, 7]], [[4, 5, 6], [7, 8, 9]]]\n"
       ]
      }
     ],
     "prompt_number": 130
    },
    {
     "cell_type": "code",
     "collapsed": false,
     "input": [
      "print \"retrieving data from this data structure\"\n",
      "print lolol[0]\n",
      "print lolol[0][0]\n",
      "print lolol[0][0][0]"
     ],
     "language": "python",
     "metadata": {},
     "outputs": [
      {
       "output_type": "stream",
       "stream": "stdout",
       "text": [
        "retrieving data from this data structure\n",
        "[[1, 2, 3], [4, 5, 6, 7]]\n",
        "[1, 2, 3]\n",
        "1\n"
       ]
      }
     ],
     "prompt_number": 131
    },
    {
     "cell_type": "code",
     "collapsed": false,
     "input": [
      "print \"data structures as values in a dictionary\"\n",
      "dlol = {\"lol\":lol, \"lol_2\":lol_2}\n",
      "print dlol"
     ],
     "language": "python",
     "metadata": {},
     "outputs": [
      {
       "output_type": "stream",
       "stream": "stdout",
       "text": [
        "data structures as values in a dictionary\n",
        "{'lol': [[1, 2, 3], [4, 5, 6, 7]], 'lol_2': [[4, 5, 6], [7, 8, 9]]}\n"
       ]
      }
     ],
     "prompt_number": 132
    },
    {
     "cell_type": "code",
     "collapsed": false,
     "input": [
      "print \"retrieving data from this dictionary\"\n",
      "print dlol[\"lol\"]\n",
      "print dlol[\"lol\"][0]\n",
      "print dlol[\"lol\"][0][0]"
     ],
     "language": "python",
     "metadata": {},
     "outputs": [
      {
       "output_type": "stream",
       "stream": "stdout",
       "text": [
        "retrieving data from this dictionary\n",
        "[[1, 2, 3], [4, 5, 6, 7]]\n",
        "[1, 2, 3]\n",
        "1\n"
       ]
      }
     ],
     "prompt_number": 133
    },
    {
     "cell_type": "markdown",
     "metadata": {},
     "source": [
      "#### Exercise\n",
      "\n",
      "You are given the following data structure.\n",
      "\n",
      "`data = {\"Panos\": {\"Job\":\"Professor\", \"YOB\": \"1976\", \"Children\": [\"Gregory\", \"Anna\"]}, \"Joe\": {\"Job\":\"Data Scientist\", \"YOB\": \"1981\"}} `\n",
      "\n",
      "You need to write code that\n",
      "\n",
      "* Prints the job of Joe\n",
      "* Prints the year of birth of Panos\n",
      "* Prints the children of Panos\n",
      "* Prints the second child of Panos\n",
      "* Prints the number of people entries in the data\n",
      "* Checks if Maria is in the data\n",
      "* Checks if Panos has children\n",
      "* Checks if Joe has children"
     ]
    },
    {
     "cell_type": "code",
     "collapsed": false,
     "input": [
      "# your code here\n",
      "data = {\"Panos\": {\"Job\":\"Professor\", \"YOB\": \"1976\", \"Children\": [\"Gregory\", \"Anna\"]}, \"Joe\": {\"Job\":\"Data Scientist\", \"YOB\": \"1981\"}}\n",
      "info_joe = data[\"Joe\"]\n",
      "info_panos = data[\"Panos\"]\n",
      "#1\n",
      "print \"Joe's job is: \", info_joe[\"Job\"]\n",
      "#2\n",
      "print \"YOB of Panos is: \", info_panos[\"YOB\"]\n",
      "#3\n",
      "print \"Panos children are: \", info_panos[\"Children\"]\n",
      "#4\n",
      "print \"Panos second child is: \", info_panos[\"Children\"][1]\n",
      "#5\n",
      "print \"Number of people entries is: \", len(data.keys())\n",
      "#6\n",
      "print \"is Maria in data? \", \"Maria\" in data\n",
      "#7\n",
      "print \"is Panos has children? \", \"Children\" in info_panos\n",
      "#8\n",
      "print \"is Panos has children? \", \"Children\" in info_joe"
     ],
     "language": "python",
     "metadata": {},
     "outputs": [
      {
       "output_type": "stream",
       "stream": "stdout",
       "text": [
        " Joe's job is:  Data Scientist\n",
        "YOB of Panos is:  1976\n",
        "Panos children are:  ['Gregory', 'Anna']\n",
        "Panos second child is:  Anna\n",
        "Number of people entries is:  2\n",
        "is Maria in data?  False\n",
        "is Panos has children?  True\n",
        "is Panos has children?  False\n"
       ]
      }
     ],
     "prompt_number": 152
    },
    {
     "cell_type": "markdown",
     "metadata": {},
     "source": [
      "Control Structures\n",
      "------------------\n",
      "\n",
      "We've spent some time going into detail about some of the data types and structures available in python. It's now time to talk about how to navigate through some of this data, and use data to make decisions. Traversing over data and making decisions based upon data are a common aspect of every programming language, known as control flow. Python provides a rich control flow, with a lot of conveniences for the power users. Here, we're just going to talk about the basics, to learn more, please [consult the documentation](http://docs.python.org/2/tutorial/controlflow.html). \n",
      "\n",
      "A common theme throughout this discussion of control structures is the notion of a \"block of code.\" Blocks of code are demarcated by a specific level of indentation, typically separated from the surrounding code by some control structure elements, immediately preceeded by a colon, `:`. We'll see examples below. \n",
      "\n",
      "Finally, note that control structures can be nested arbitrarily, depending on the tasks you're trying to accomplish. \n",
      "\n",
      "###if Statements:\n",
      "\n",
      "If statements are perhaps the most widely used of all control structures. An if statement consists of a code block and an argument. The if statement evaluates the boolean value of it's argument, executing the code block if that argument is true. "
     ]
    },
    {
     "cell_type": "code",
     "collapsed": false,
     "input": [
      "if True:\n",
      "    print \"duh\"  "
     ],
     "language": "python",
     "metadata": {},
     "outputs": []
    },
    {
     "cell_type": "code",
     "collapsed": false,
     "input": [
      "if 1+1 == 2:\n",
      "    print \"easy\""
     ],
     "language": "python",
     "metadata": {},
     "outputs": []
    },
    {
     "cell_type": "code",
     "collapsed": false,
     "input": [
      "if (2+2 == 5):\n",
      "    print \"really?\"\n",
      "    "
     ],
     "language": "python",
     "metadata": {},
     "outputs": []
    },
    {
     "cell_type": "code",
     "collapsed": false,
     "input": [
      "\n",
      "items = {1, 2, 3}\n",
      "if 2 in items:\n",
      "    print \"found it! I found the element 2\""
     ],
     "language": "python",
     "metadata": {},
     "outputs": []
    },
    {
     "cell_type": "markdown",
     "metadata": {},
     "source": [
      "Each argument in the above if statements is a boolean expression. Often you want to have alternatives, blocks of code that get evaluated in the event that the argument to an if statement is false. This is where elif (else if) and else come in. \n",
      "\n",
      "An elif is evaluated if all preceeding if or elif arguments have evaluted to false. The else statement is the last resort, assigning the code that gets exectued if no if or elif above it is true. These statements are optional, and can be added to an if statement in any order, with at most one code block being evaluated. An else will always have it's code be exectued, if nothing above it is true."
     ]
    },
    {
     "cell_type": "code",
     "collapsed": false,
     "input": [
      "if 1+2 == 2:\n",
      "    print \"whoa\"\n",
      "    x = 5+1\n",
      "    print \"done\"\n",
      "elif 1+1 == 0:\n",
      "    print \"that explains it\"\n",
      "elif 5+5 == 9:\n",
      "    print \"somethign\"\n",
      "    if \"ssomething\":\n",
      "        print \"hi\"\n",
      "    else:\n",
      "        print \"what I expected\"\n",
      "    \n",
      "x = {1,2,3}\n",
      "if 5 in x:\n",
      "    print \"found it\"\n",
      "else:\n",
      "    print \"didn't find it\"\n",
      "    x.add(5)\n",
      "print x\n",
      "\n",
      "if False:\n",
      "    print \"shouln't happen\"\n",
      "elif False:\n",
      "    print \"should happen\""
     ],
     "language": "python",
     "metadata": {},
     "outputs": []
    },
    {
     "cell_type": "markdown",
     "metadata": {},
     "source": [
      "###for Statements:\n",
      "\n",
      "for statements are a convenient way to iterate through the values contained in a data structure. Going through the elements in a data structure one at a time, this element is assigned to variable. The code block associated with the for statement (or for loop) is then evaluated with this value."
     ]
    },
    {
     "cell_type": "code",
     "collapsed": false,
     "input": [
      "set = {1, 2, 3, 4}\n",
      "for foobar in set:\n",
      "    print foobar, \" squared is:\", foobar*foobar "
     ],
     "language": "python",
     "metadata": {},
     "outputs": []
    },
    {
     "cell_type": "code",
     "collapsed": false,
     "input": [
      "print \"a more complex block\"\n",
      "for num in set:\n",
      "    if num >= 3:\n",
      "        print num+5"
     ],
     "language": "python",
     "metadata": {},
     "outputs": []
    },
    {
     "cell_type": "code",
     "collapsed": false,
     "input": [
      "print \"this also works for lists\"\n",
      "list = [1,2,3]\n",
      "for num in list:\n",
      "    if num >= 2:\n",
      "        print num+5"
     ],
     "language": "python",
     "metadata": {},
     "outputs": []
    },
    {
     "cell_type": "code",
     "collapsed": false,
     "input": [
      "print \"dictionaries let you iterate through keys, values, or both\"\n",
      "dict = {\"a\":1, \"b\":2}\n",
      "\n",
      "for k in dict.keys():\n",
      "    value = dict[k]\n",
      "    print k\n",
      "for v in dict.values():\n",
      "    print v"
     ],
     "language": "python",
     "metadata": {},
     "outputs": []
    },
    {
     "cell_type": "code",
     "collapsed": false,
     "input": [
      "print \"dictionaries let you iterate through keys, values, or both\"\n",
      "dict = {\"a\":1, \"b\":2}\n",
      "\n",
      "for k,v in dict.iteritems():\n",
      "    if v == dict[k]:\n",
      "        print \"whew! the value %d\" % v, \" is in the dictionary, with a key %s\" % k\n"
     ],
     "language": "python",
     "metadata": {},
     "outputs": []
    },
    {
     "cell_type": "code",
     "collapsed": false,
     "input": [
      "print \"dictionaries let you iterate through keys, values, or both\"\n",
      "dict = {\"a\":1, \"b\":2, \"c\": 3, \"d\":4, \"e\": 4, \"f\": 4}\n",
      "dict.\n",
      "for k,v in dict.iteritems():\n",
      "    if v == 4:\n",
      "        print \"The key %s has the value 4\" % k"
     ],
     "language": "python",
     "metadata": {},
     "outputs": []
    },
    {
     "cell_type": "markdown",
     "metadata": {},
     "source": [
      "###Break and Continue:\n",
      "\n",
      "These two statements are used to modify iteration of loops. Break is used to exit the inner most loop in which it appears. Continue the current pass through the loop, going on to the next iteration."
     ]
    },
    {
     "cell_type": "code",
     "collapsed": false,
     "input": [
      "x = [1,2,3,4,5,4,3,2,1]\n",
      "for num in x:\n",
      "    if num > 2:\n",
      "        break\n",
      "    print num"
     ],
     "language": "python",
     "metadata": {},
     "outputs": []
    },
    {
     "cell_type": "code",
     "collapsed": false,
     "input": [
      "y = [\"a\", \"b\", \"c\", \"d\"]\n",
      "for letter in y:\n",
      "    if letter == \"b\":\n",
      "        continue\n",
      "    print letter"
     ],
     "language": "python",
     "metadata": {},
     "outputs": []
    },
    {
     "cell_type": "code",
     "collapsed": false,
     "input": [
      "y = [\"a\", \"b\", \"c\", \"d\"]\n",
      "for letter in y:\n",
      "    if letter == \"b\":\n",
      "        break\n",
      "    print letter"
     ],
     "language": "python",
     "metadata": {},
     "outputs": []
    },
    {
     "cell_type": "markdown",
     "metadata": {},
     "source": [
      "###Ranges of Integers:\n",
      "\n",
      "Often it is convenient to define (and iterate through) ranges of integers. Python has a convenient range function that allows you to do just this."
     ]
    },
    {
     "cell_type": "code",
     "collapsed": false,
     "input": [
      "print range(-5, 5, 2)"
     ],
     "language": "python",
     "metadata": {},
     "outputs": []
    },
    {
     "cell_type": "code",
     "collapsed": false,
     "input": [
      "print range(3) # start at zero, < the specified ceiling value\n",
      "print range(-5, 5) #from the left value, < right value\n",
      "print range(-5, 5, 2) #from the left value, to the middle value, incrementing by the right value\n",
      "\n",
      "for x in range(-5, 5):\n",
      "    if x > 0:\n",
      "        print \"%d is positive\" % x"
     ],
     "language": "python",
     "metadata": {},
     "outputs": []
    },
    {
     "cell_type": "markdown",
     "metadata": {},
     "source": [
      "User Defined Functions\n",
      "----------------------\n",
      "\n",
      "Functions assign a name to a block of code the way variables assign names to bits of data. This seeminly benign naming of things is incredibly powerful; alloing one to reuse common functionality over and over. Well-tested functions form building blocks for large, complex systems. As you progress through python, you'll find yourself using powerful functions defined in some of python's vast libraries of code. \n",
      "\n",
      "Function definitions begin with the `def` keyword, followed by the name you wish to assign to a function. Following this name are parentheses, `( )`, containing zero or more variable names, those values that are passed into the function. There is then a colon, followed by a code block defining the actions of the function:"
     ]
    },
    {
     "cell_type": "code",
     "collapsed": false,
     "input": [
      "def print_hi():\n",
      "    print \"hi!\"\n",
      "print_hi()\n",
      "print_hi()\n",
      "print_hi()\n",
      "print_hi()"
     ],
     "language": "python",
     "metadata": {},
     "outputs": [
      {
       "output_type": "stream",
       "stream": "stdout",
       "text": [
        "hi!\n",
        "hi!\n",
        "hi!\n",
        "hi!\n"
       ]
      }
     ],
     "prompt_number": 1
    },
    {
     "cell_type": "code",
     "collapsed": false,
     "input": [
      "def hi_you(name):\n",
      "    print \"hi %s!\" % name.upper()\n",
      "\n",
      "hi_you(\"Panos\")\n",
      "hi_you(\"Simona\")\n",
      "hi_you(\"Adam\")\n",
      "hi_you(\"Jane\")"
     ],
     "language": "python",
     "metadata": {},
     "outputs": [
      {
       "output_type": "stream",
       "stream": "stdout",
       "text": [
        "hi PANOS!\n",
        "hi SIMONA!\n",
        "hi ADAM!\n",
        "hi JANE!\n"
       ]
      }
     ],
     "prompt_number": 5
    },
    {
     "cell_type": "code",
     "collapsed": false,
     "input": [
      "def square(num):\n",
      "    squared = num*num\n",
      "    return squared\n",
      "\n",
      "for i in range(15):\n",
      "    print \"The square of %2d\" %i, \"is %3d\" % square(i)"
     ],
     "language": "python",
     "metadata": {},
     "outputs": [
      {
       "output_type": "stream",
       "stream": "stdout",
       "text": [
        "The square of  0 is   0\n",
        "The square of  1 is   1\n",
        "The square of  2 is   4\n",
        "The square of  3 is   9\n",
        "The square of  4 is  16\n",
        "The square of  5 is  25\n",
        "The square of  6 is  36\n",
        "The square of  7 is  49\n",
        "The square of  8 is  64\n",
        "The square of  9 is  81\n",
        "The square of 10 is 100\n",
        "The square of 11 is 121\n",
        "The square of 12 is 144\n",
        "The square of 13 is 169\n",
        "The square of 14 is 196\n"
       ]
      }
     ],
     "prompt_number": 8
    },
    {
     "cell_type": "code",
     "collapsed": false,
     "input": [
      "for i in range(15):\n",
      "    print \"The square of %d\" %i, \"is %d\" % square(i)"
     ],
     "language": "python",
     "metadata": {},
     "outputs": [
      {
       "output_type": "stream",
       "stream": "stdout",
       "text": [
        "The square of 0 is 0\n",
        "The square of 1 is 1\n",
        "The square of 2 is 4\n",
        "The square of 3 is 9\n",
        "The square of 4 is 16\n",
        "The square of 5 is 25\n",
        "The square of 6 is 36\n",
        "The square of 7 is 49\n",
        "The square of 8 is 64\n",
        "The square of 9 is 81\n",
        "The square of 10 is 100\n",
        "The square of 11 is 121\n",
        "The square of 12 is 144\n",
        "The square of 13 is 169\n",
        "The square of 14 is 196\n"
       ]
      }
     ],
     "prompt_number": 9
    },
    {
     "cell_type": "markdown",
     "metadata": {},
     "source": [
      "Note that the fucntion `square` has a special keyword return. The argument to return is passed to whatever piece of code is calling the function. In this case, the square of the number that was input. \n",
      "\n",
      "Variables set inside of functions are said to be scoped to those functions: changes, including any new variables created, are only accessible while in the function code block (with some exceptions). If \"outside\" variables are modified inside a function's context, the contents of that variable are first copied.\n",
      "\n",
      "Similarly, changes or modifications to a function's arguments aren't reflected once the scope is returned; The variable will continue to point to the original thing. However, it is possible to modify the thing that is passed, assuming that it is mutable."
     ]
    },
    {
     "cell_type": "code",
     "collapsed": false,
     "input": [
      "# inside a function's context, changes to a variable defined outside that\n",
      "# context aren't reflected once the context is returned\n",
      "\n",
      "name = \"panos\"\n",
      "def do_something():\n",
      "    print \"We are now in the function!\"\n",
      "    name = \"not panos\"\n",
      "    print name\n",
      "    print \"something! ... and we are out\"\n",
      "\n",
      "print \"We start here!\"\n",
      "print \"The name is\", name\n",
      "print \"Let's call the function...\"\n",
      "do_something()\n",
      "print \"Done with the function...\"\n",
      "print name"
     ],
     "language": "python",
     "metadata": {},
     "outputs": [
      {
       "output_type": "stream",
       "stream": "stdout",
       "text": [
        "We start here!\n",
        "The name is panos\n",
        "Let's call the function...\n",
        "We are now in the function!\n",
        "not panos\n",
        "something! ... and we are out\n",
        "Done with the function...\n",
        "panos\n"
       ]
      }
     ],
     "prompt_number": 10
    },
    {
     "cell_type": "code",
     "collapsed": false,
     "input": [
      "# but outside variables can be read!\n",
      "def do_something_else():\n",
      "    print name\n",
      "do_something_else()\n",
      "\n",
      "def do_something_new(some_name):\n",
      "    some_name = \"nothing\"\n",
      "    print some_name\n",
      "\n",
      "do_something_new(name)\n",
      "print name\n",
      "    \n",
      "# mutable objects (lists, sets, dictionaries, etc) can be modified\n",
      "a_list = [1,2,3]\n",
      "b_list = [1,2,3,4,5]\n",
      "def add_sum(some_list):\n",
      "    s = sum(some_list)\n",
      "    some_list.append(s)   # the some_list is modified and returned, sothat the parameter itself changes\n",
      "    some_list = []    # some_list is pointing to a new list, pass by reference\n",
      "    return s\n",
      "\n",
      "tot = add_sum(a_list)  # the a_list is going to changed\n",
      "print tot\n",
      "print a_list\n",
      "\n",
      "# try again!\n",
      "tot = add_sum(b_list)\n",
      "print tot\n",
      "print b_list\n",
      "\n"
     ],
     "language": "python",
     "metadata": {},
     "outputs": [
      {
       "output_type": "stream",
       "stream": "stdout",
       "text": [
        "panos\n",
        "nothing\n",
        "panos\n",
        "6\n",
        "[1, 2, 3, 6]\n",
        "15\n",
        "[1, 2, 3, 4, 5, 15]\n"
       ]
      }
     ],
     "prompt_number": 21
    },
    {
     "cell_type": "code",
     "collapsed": false,
     "input": [
      "# variables created in a function aren't accessible \n",
      "# outside that function's context\n",
      "def do_something_new():\n",
      "    thing = \"123\"\n",
      "    print \"Hi!\"\n",
      "do_something_new()\n",
      "print thing"
     ],
     "language": "python",
     "metadata": {},
     "outputs": [
      {
       "ename": "NameError",
       "evalue": "name 'thing' is not defined",
       "output_type": "pyerr",
       "traceback": [
        "\u001b[1;31m---------------------------------------------------------------------------\u001b[0m\n\u001b[1;31mNameError\u001b[0m                                 Traceback (most recent call last)",
        "\u001b[1;32m<ipython-input-22-79d666b041f8>\u001b[0m in \u001b[0;36m<module>\u001b[1;34m()\u001b[0m\n\u001b[0;32m      5\u001b[0m     \u001b[1;32mprint\u001b[0m \u001b[1;34m\"Hi!\"\u001b[0m\u001b[1;33m\u001b[0m\u001b[0m\n\u001b[0;32m      6\u001b[0m \u001b[0mdo_something_new\u001b[0m\u001b[1;33m(\u001b[0m\u001b[1;33m)\u001b[0m\u001b[1;33m\u001b[0m\u001b[0m\n\u001b[1;32m----> 7\u001b[1;33m \u001b[1;32mprint\u001b[0m \u001b[0mthing\u001b[0m\u001b[1;33m\u001b[0m\u001b[0m\n\u001b[0m",
        "\u001b[1;31mNameError\u001b[0m: name 'thing' is not defined"
       ]
      },
      {
       "output_type": "stream",
       "stream": "stdout",
       "text": [
        "Hi!\n"
       ]
      }
     ],
     "prompt_number": 22
    },
    {
     "cell_type": "code",
     "collapsed": false,
     "input": [
      "def times_two(input):\n",
      "    input = 2*input\n",
      "    return input\n",
      "\n",
      "four = 4\n",
      "print times_two(four)\n",
      "print four"
     ],
     "language": "python",
     "metadata": {},
     "outputs": [
      {
       "output_type": "stream",
       "stream": "stdout",
       "text": [
        "8\n",
        "4\n"
       ]
      }
     ],
     "prompt_number": 23
    },
    {
     "cell_type": "markdown",
     "metadata": {},
     "source": [
      "Files and Printing\n",
      "------------------\n",
      "\n",
      "You'll often be reading data from a file, or writing the output of your python scripts back into a file. Python makes this very easy. You need to open a file in the appropriate mode, using the `open` function, then you can read or write to accomplish your task. The `open` function takes two arguments, the name of the file, and the mode. The mode is a single letter string that specifies if you're going to be reading from a file, writing to a file, or appending to the end of an existing file. The function returns a file object that performs the various tasks you'll be performing: `a_file = open(filename, mode)`. The modes are:\n",
      "\n",
      "+ `'r'`: open a file for reading\n",
      "+ `'w'`: open a file for writing. Caution: this will overwrite any previously existing file\n",
      "+ `'a'`: append. Write to the end of a file. \n",
      "\n",
      "When reading, you typically want to iterate through the lines in a file using a for loop, as above. Some other common methods for dealing with files are: \n",
      "\n",
      "+ `file.read()`: read the entire contents of a file into a string\n",
      "+ `file.readline()`: read one line of a file\n",
      "+ `file.write(some_string)`: writes to the file, note this doesn't automatically include any new lines. Also note that sometimes writes are buffered- python will wait until you have several writes pending, and perform them all at once\n",
      "+ `file.flush()`: write out any buffered writes\n",
      "+ `file.close()`: close the open file. This will free up some computer resources occupied by keeping a file open.\n",
      "+ `file.seek(position)`: moves to a specific position within a file. Note that position is specified in bytes. \n",
      "\n",
      "Here is an example using files:"
     ]
    },
    {
     "cell_type": "code",
     "collapsed": false,
     "input": [
      "file = open(\"temp.txt\", \"w\")\n",
      "list = [\"a\", \"b\", \"c\", \"d\"]\n",
      "set = {1, 2, 3, 4}\n",
      "\n",
      "for x in list:\n",
      "    file.write(\"letter: %s\\n\" % x)\n",
      "    print \"letter: %s\\n\" % x\n",
      "for n in set:\n",
      "    file.write(\"number: %d\\n\" % n)\n",
      "    print \"number: %d\\n\" % n\n",
      "file.flush()\n",
      "file.close()"
     ],
     "language": "python",
     "metadata": {},
     "outputs": [
      {
       "output_type": "stream",
       "stream": "stdout",
       "text": [
        "letter: a\n",
        "\n",
        "letter: b\n",
        "\n",
        "letter: c\n",
        "\n",
        "letter: d\n",
        "\n",
        "number: 1\n",
        "\n",
        "number: 2\n",
        "\n",
        "number: 3\n",
        "\n",
        "number: 4\n",
        "\n"
       ]
      }
     ],
     "prompt_number": 24
    },
    {
     "cell_type": "code",
     "collapsed": false,
     "input": [
      "!cat temp.txt"
     ],
     "language": "python",
     "metadata": {},
     "outputs": [
      {
       "output_type": "stream",
       "stream": "stdout",
       "text": [
        "letter: a\r\n",
        "letter: b\r\n",
        "letter: c\r\n",
        "letter: d\r\n",
        "number: 1\r\n",
        "number: 2\r\n",
        "number: 3\r\n",
        "number: 4\r\n"
       ]
      }
     ],
     "prompt_number": 25
    },
    {
     "cell_type": "code",
     "collapsed": false,
     "input": [
      "file_2 = open(\"temp.txt\", \"r\")\n",
      "for line in file_2:\n",
      "    print line # note that this doesn't strip off the newlines\n",
      "file_2.close()\n"
     ],
     "language": "python",
     "metadata": {},
     "outputs": [
      {
       "output_type": "stream",
       "stream": "stdout",
       "text": [
        "letter: a\n",
        "\n",
        "letter: b\n",
        "\n",
        "letter: c\n",
        "\n",
        "letter: d\n",
        "\n",
        "number: 1\n",
        "\n",
        "number: 2\n",
        "\n",
        "number: 3\n",
        "\n",
        "number: 4\n",
        "\n"
       ]
      }
     ],
     "prompt_number": 26
    },
    {
     "cell_type": "code",
     "collapsed": false,
     "input": [
      "file_3 = open(\"temp.txt\", \"r\")\n",
      "content = file_3.read()\n",
      "print content\n",
      "file_3.close()"
     ],
     "language": "python",
     "metadata": {},
     "outputs": [
      {
       "output_type": "stream",
       "stream": "stdout",
       "text": [
        "letter: a\n",
        "letter: b\n",
        "letter: c\n",
        "letter: d\n",
        "number: 1\n",
        "number: 2\n",
        "number: 3\n",
        "number: 4\n",
        "\n"
       ]
      }
     ],
     "prompt_number": 27
    },
    {
     "cell_type": "code",
     "collapsed": false,
     "input": [
      "# filter rows\n",
      "file_4 = open(\"temp.txt\", \"r\")\n",
      "for line in file_4:\n",
      "    if line.count(\"t\") > 0:\n",
      "        break\n",
      "    print line.strip() # remove the extra newline.\n",
      "file_4.close()"
     ],
     "language": "python",
     "metadata": {},
     "outputs": []
    },
    {
     "cell_type": "code",
     "collapsed": false,
     "input": [
      "!cat temp.txt"
     ],
     "language": "python",
     "metadata": {},
     "outputs": []
    },
    {
     "cell_type": "code",
     "collapsed": false,
     "input": [
      "# filter columns\n",
      "file_5 = open(\"temp.txt\", \"r\")\n",
      "for line in file_5:\n",
      "    columns = line.strip().split(\": \") # create a list by splitting the line on the \" \" and \":\" characters\n",
      "    print \"_\".join(columns) # prints the columns as a string, using the \"#\" char as a separator\n",
      "    if columns[1] != \"b\": # if the second element of the list is NOT b, \n",
      "        print columns # then print the list\n",
      "    \n",
      "file_5.close()"
     ],
     "language": "python",
     "metadata": {},
     "outputs": []
    },
    {
     "cell_type": "markdown",
     "metadata": {},
     "source": [
      "#### Exercise\n",
      "\n",
      "The command below will create a file called phonetest.xt"
     ]
    },
    {
     "cell_type": "code",
     "collapsed": false,
     "input": [
      "%%file phonetest.txt    \n",
      "679-397-5255\n",
      "2126660921\n",
      "212-998-0902\n",
      "888-888-2222\n",
      "800-555-1211\n",
      "800 555 1212\n",
      "800.555.1213\n",
      "(800) 555-1214\n",
      "1-800-555-1215\n",
      "1(800)555-1216\n",
      "800-555-1212-1234\n",
      "800-555-1212x1234\n",
      "800-555-1212 ext. 1234\n",
      "work 1-(800) 555.1212 #1234\n",
      "Hello this is Jane!"
     ],
     "language": "python",
     "metadata": {},
     "outputs": [
      {
       "output_type": "stream",
       "stream": "stdout",
       "text": [
        "Overwriting phonetest.txt\n"
       ]
      }
     ],
     "prompt_number": 34
    },
    {
     "cell_type": "markdown",
     "metadata": {},
     "source": [
      "Write code that will read the file and print its contents on the output"
     ]
    },
    {
     "cell_type": "code",
     "collapsed": false,
     "input": [
      "# your code here\n",
      "filename = \"phonetest.txt\"\n",
      "file_tel = open(filename, \"r\")\n",
      "content = file_tel.read()\n",
      "print content\n",
      "file_tel.close()"
     ],
     "language": "python",
     "metadata": {},
     "outputs": [
      {
       "output_type": "stream",
       "stream": "stdout",
       "text": [
        "679-397-5255\n",
        "2126660921\n",
        "212-998-0902\n",
        "888-888-2222\n",
        "800-555-1211\n",
        "800 555 1212\n",
        "800.555.1213\n",
        "(800) 555-1214\n",
        "1-800-555-1215\n",
        "1(800)555-1216\n",
        "800-555-1212-1234\n",
        "800-555-1212x1234\n",
        "800-555-1212 ext. 1234\n",
        "work 1-(800) 555.1212 #1234\n",
        "Hello this is Jane!\n"
       ]
      }
     ],
     "prompt_number": 36
    },
    {
     "cell_type": "markdown",
     "metadata": {},
     "source": [
      "Importing Libraries\n",
      "-------------------\n",
      "\n",
      "One of the greatest strengths of the python programming language is its rich set of libraries- pre-written code that implements a variety of functionality. For the data scientist, python's libraries (also called \"modules\") are particularly valuable. With a little bit of research into the details of python's libraries, a lot of common data  tasks are little more than a function call away. Libraries exist for doing data cleaning, analysis, visualization, machine learning and statistics. \n",
      "\n",
      "[This XKCD cartoon](http://xkcd.com/353/) pretty much summarizes what Python libraries can do...\n",
      "\n",
      "In order to have access to a libraries functionality in a block of code, you must first import it. Importing a library tells python that while executing your code, it should not only consider the code and functions that you have written, but code and functions in the libraries that you have imported.\n",
      "\n",
      "There are several ways to import modules in python, some have ebetter properties than others. Below we see the preferred general way to import modules. In documentation, you may see other ways to import libraries (`from a_library import foo`). There is no risk to just copying this pattern if it is known to work. \n",
      "\n",
      "Imagine I want to import a library called `some_python_library`. This can be done using the import commands. All code below that import statement has access to the library contents.\n",
      "\n",
      "+ `import some_python_library`: imports the module `some_python_library`, and creates a reference to that module in the current namespace. Or in other words, after you\u2019ve run this statement, you can use `some_python_library.name` to refer to things defined in module `some_python_library`.\n",
      "\n",
      "+ `import some_python_library as plib`: imports the module `some_python_library` and sets an alias for that library that may be easier to refer to. To refer to a thing defined in the library `some_python_library`, use `plib.name`. \n",
      "\n",
      "In practice you'll see the second pattern used very frequently; `pandas` referred to as `pd`, `numpy` referred to as `np`, etc. "
     ]
    },
    {
     "cell_type": "code",
     "collapsed": false,
     "input": [
      "import math\n",
      "number = 2\n",
      "print math.sqrt(number)"
     ],
     "language": "python",
     "metadata": {},
     "outputs": [
      {
       "output_type": "stream",
       "stream": "stdout",
       "text": [
        "1.41421356237\n"
       ]
      }
     ],
     "prompt_number": 37
    },
    {
     "cell_type": "code",
     "collapsed": false,
     "input": [
      "import math as m\n",
      "print m.log(number)"
     ],
     "language": "python",
     "metadata": {},
     "outputs": []
    },
    {
     "cell_type": "markdown",
     "metadata": {},
     "source": [
      "Example: Matplotlib\n",
      "-------------------\n",
      "\n",
      "Matplotlib is one of the first python libraries a budding data scientist is likely to encounter. Matplotlib is a feature-rich plotting framework, capable of most plots you'll likely need. The interface to the matplotlib module mimics the plotting functionality in Matlab, another language and environment for scientific computing. If you're familiar with Matlab plots, matplotlib will seem very familiar. Even the plots look almost identical. \n",
      "\n",
      "Here, we'll cover some basic functionality of matplotlib, line and bar plots and histograms. As with most content convered in this course, this is just scratching the surface. For more info, including many great examples, please consult the [official matplotlib documentation](http://matplotlib.org/). A typical pattern for me when plotting things in python is to find an example that closely mirrors what I'm trying to do, copy this, and tweak until i get things right.\n",
      "\n",
      "Note: to get plots to appear inline in ipython notebooks, you must invoke the \"magic function\" `%matplotlib inline`. To have a stand-alone python app plot in a new window, use `plt.show()`.\n",
      "\n",
      "In most cases, the input to matplotlib plotting functions is arrays of numerical types,  floats or integers. "
     ]
    },
    {
     "cell_type": "code",
     "collapsed": false,
     "input": [
      "# used to embed plots inside an ipython notebook\n",
      "%matplotlib inline \n",
      "import matplotlib.pyplot as plt\n",
      "\n",
      "# really simple example:\n",
      "y = [1,2,3,4,5,4,3,2,1]\n",
      "x = [1,2,3,4,5,6,7,8,9]\n",
      "plt.plot(x, y)"
     ],
     "language": "python",
     "metadata": {},
     "outputs": [
      {
       "metadata": {},
       "output_type": "pyout",
       "prompt_number": 38,
       "text": [
        "[<matplotlib.lines.Line2D at 0x2f25550>]"
       ]
      },
      {
       "metadata": {},
       "output_type": "display_data",
       "png": "[encoded data removed]",
       "text": [
        "<matplotlib.figure.Figure at 0x2258d90>"
       ]
      }
     ],
     "prompt_number": 38
    },
    {
     "cell_type": "code",
     "collapsed": false,
     "input": [
      "import numpy as np\n",
      "\n",
      "X = np.linspace(0, 10, 101) #create values from 0 to 10, and use 101 values\n",
      "print X"
     ],
     "language": "python",
     "metadata": {},
     "outputs": [
      {
       "output_type": "stream",
       "stream": "stdout",
       "text": [
        "[  0.    0.1   0.2   0.3   0.4   0.5   0.6   0.7   0.8   0.9   1.    1.1\n",
        "   1.2   1.3   1.4   1.5   1.6   1.7   1.8   1.9   2.    2.1   2.2   2.3\n",
        "   2.4   2.5   2.6   2.7   2.8   2.9   3.    3.1   3.2   3.3   3.4   3.5\n",
        "   3.6   3.7   3.8   3.9   4.    4.1   4.2   4.3   4.4   4.5   4.6   4.7\n",
        "   4.8   4.9   5.    5.1   5.2   5.3   5.4   5.5   5.6   5.7   5.8   5.9\n",
        "   6.    6.1   6.2   6.3   6.4   6.5   6.6   6.7   6.8   6.9   7.    7.1\n",
        "   7.2   7.3   7.4   7.5   7.6   7.7   7.8   7.9   8.    8.1   8.2   8.3\n",
        "   8.4   8.5   8.6   8.7   8.8   8.9   9.    9.1   9.2   9.3   9.4   9.5\n",
        "   9.6   9.7   9.8   9.9  10. ]\n"
       ]
      }
     ],
     "prompt_number": 43
    },
    {
     "cell_type": "code",
     "collapsed": false,
     "input": [
      "import numpy as np\n",
      "\n",
      "X = np.linspace(0, 10, 10001) #create values from 0 to 10, and use 10001 values\n",
      "Y = []\n",
      "\n",
      "for x in X:\n",
      "    y = math.sin(x)\n",
      "    Y.append(y)\n",
      "    \n",
      "plt.plot(X, Y, 'mx')\n",
      "plt.title('The Sine Wave')\n",
      "plt.xlabel('X')\n",
      "plt.ylabel('sin(X)')"
     ],
     "language": "python",
     "metadata": {},
     "outputs": [
      {
       "metadata": {},
       "output_type": "pyout",
       "prompt_number": 44,
       "text": [
        "<matplotlib.text.Text at 0x2f9cbd0>"
       ]
      },
      {
       "metadata": {},
       "output_type": "display_data",
       "png": "[encoded data removed]",
       "text": [
        "<matplotlib.figure.Figure at 0x2f31050>"
       ]
      }
     ],
     "prompt_number": 44
    },
    {
     "cell_type": "markdown",
     "metadata": {},
     "source": [
      "Notice that most of the functionality in matplotlib that we're using is in the sub-module `matplotlib.pyplot`. \n",
      "\n",
      "The third argument (i.e., the `'r-.'`) in the plot function `plt.plot(X, Y, 'r-.')` is a formatting specifier. This defines some properties for a line to be displayed. Some details:\n",
      "Color characters:\n",
      "\n",
      "+ `b`: blue\n",
      "\n",
      "+ `k`: black\n",
      "\n",
      "+ `r`: red\n",
      "\n",
      "+ `c`: cyan\n",
      "\n",
      "+ `m`: magenta\n",
      "\n",
      "+ `y`: yellow\n",
      "\n",
      "+ `g`: green\n",
      "\n",
      "+ `w`: white\n",
      "\n",
      "Some line/marker formatting specifiers:\n",
      "\n",
      "+ `-`: solid line style\n",
      "\n",
      "+ `--`: dashed line style\n",
      "\n",
      "+ `-.`: dash-dot line style\n",
      "\n",
      "+ `:`:  dotted line style\n",
      "\n",
      "+ `.`: point marker\n",
      "\n",
      "+ `,`: pixel marker\n",
      "\n",
      "+ `o`: circle marker\n",
      "\n",
      "+ `+`: plus marker\n",
      "\n",
      "+ `x`: x marker\n",
      "\n",
      "There are many other options for plots that can be specified. See [documentation](http://matplotlib.org/api/pyplot_api.html#matplotlib.pyplot.plot) for more info. We will also revisit this topic in the Visualization lectures.\n",
      "\n",
      "It is possible to plot multiple plots on the same y-axis. In order to do this, the Y data passed into the plot function must be a **list of lists**, each with the same length as the X data that is input:"
     ]
    },
    {
     "cell_type": "code",
     "collapsed": false,
     "input": [
      "Y = []\n",
      "for x in X:\n",
      "    y = [math.sin(x), math.cos(x), 0.1*x]\n",
      "    Y.append(y)\n",
      "\n",
      "plt.plot(X, Y)\n",
      "plt.legend(['sin(x)', 'cos(x)', 'x/10'])"
     ],
     "language": "python",
     "metadata": {},
     "outputs": [
      {
       "metadata": {},
       "output_type": "pyout",
       "prompt_number": 41,
       "text": [
        "<matplotlib.legend.Legend at 0x7fc0c0d16bd0>"
       ]
      },
      {
       "metadata": {},
       "output_type": "display_data",
       "png": "[encoded data removed]",
       "text": [
        "<matplotlib.figure.Figure at 0x7fc0c0d16990>"
       ]
      }
     ],
     "prompt_number": 41
    },
    {
     "cell_type": "markdown",
     "metadata": {},
     "source": [
      "It is also possible to just plot Y data without corresponding X values. In this case, the index in the array is assumed to be X."
     ]
    },
    {
     "cell_type": "code",
     "collapsed": false,
     "input": [
      "plt.plot(Y)\n",
      "plt.xlabel('index')\n",
      "plt.ylabel('f(x)')\n",
      "plt.legend(['sin(x)', 'cos(x)', 'x/10'])"
     ],
     "language": "python",
     "metadata": {},
     "outputs": [
      {
       "metadata": {},
       "output_type": "pyout",
       "prompt_number": 42,
       "text": [
        "<matplotlib.legend.Legend at 0x7fc0c0cf8350>"
       ]
      },
      {
       "metadata": {},
       "output_type": "display_data",
       "png": "[encoded data removed]",
       "text": [
        "<matplotlib.figure.Figure at 0x7fc0c0cf8210>"
       ]
      }
     ],
     "prompt_number": 42
    },
    {
     "cell_type": "markdown",
     "metadata": {},
     "source": [
      "Alternately, multiple calls to plot can be made with differing data. Doing so overlays the subsequent plots, creating the same effect."
     ]
    },
    {
     "cell_type": "code",
     "collapsed": false,
     "input": [
      "Y = []\n",
      "Z = []\n",
      "for x in X:\n",
      "    Y.append(math.sin(x))\n",
      "    Z.append(math.cos(x))\n",
      "    \n",
      "plt.plot(X, Y, 'b-.')\n",
      "plt.plot(X, Z, 'r--')\n",
      "plt.legend(['sin(x)', 'cos(x)'])"
     ],
     "language": "python",
     "metadata": {},
     "outputs": [
      {
       "metadata": {},
       "output_type": "pyout",
       "prompt_number": 43,
       "text": [
        "<matplotlib.legend.Legend at 0x7fc0c0a9fe10>"
       ]
      },
      {
       "metadata": {},
       "output_type": "display_data",
       "png": "[encoded data removed]",
       "text": [
        "<matplotlib.figure.Figure at 0x7fc0c0baa8d0>"
       ]
      }
     ],
     "prompt_number": 43
    },
    {
     "cell_type": "markdown",
     "metadata": {},
     "source": [
      "Bar plots are often a good way to compare data in categories. This is an easy matter with matplotlib, the interface is almost identical to the that used when making line plots. "
     ]
    },
    {
     "cell_type": "code",
     "collapsed": false,
     "input": [
      "vals = [7, 6.2, 3, 5, 9]\n",
      "xval = [1, 2, 3, 4, 5]\n",
      "plt.bar(xval, vals)\n"
     ],
     "language": "python",
     "metadata": {},
     "outputs": [
      {
       "metadata": {},
       "output_type": "pyout",
       "prompt_number": 45,
       "text": [
        "<Container object of 5 artists>"
       ]
      },
      {
       "metadata": {},
       "output_type": "display_data",
       "png": "[encoded data removed]",
       "text": [
        "<matplotlib.figure.Figure at 0x2f99dd0>"
       ]
      }
     ],
     "prompt_number": 45
    },
    {
     "cell_type": "markdown",
     "metadata": {},
     "source": [
      "Histograms are extremely useful for analyzing data. Histograms partition numerical data into a discrete number of buckets (called bins), and return the number of values within each bucket. Typically this is displayed as a bar plot."
     ]
    },
    {
     "cell_type": "code",
     "collapsed": false,
     "input": [
      "Y = []\n",
      "for x in range(0,100000):\n",
      "    Y.append(np.random.randn())\n",
      "    \n",
      "plt.hist(Y, 50)"
     ],
     "language": "python",
     "metadata": {},
     "outputs": [
      {
       "metadata": {},
       "output_type": "pyout",
       "prompt_number": 46,
       "text": [
        "(array([   2,    7,   11,   16,   40,   73,   96,  148,  230,  396,  572,\n",
        "        788, 1157, 1521, 1985, 2592, 3155, 3880, 4539, 5209, 5693, 6291,\n",
        "       6704, 6744, 6681, 6543, 6034, 5460, 4992, 4136, 3537, 2832, 2266,\n",
        "       1655, 1302,  925,  620,  449,  286,  188,   90,   65,   35,   30,\n",
        "         13,    4,    5,    1,    1,    1]),\n",
        " array([-4.03701444, -3.86675506, -3.69649567, -3.52623628, -3.3559769 ,\n",
        "       -3.18571751, -3.01545812, -2.84519874, -2.67493935, -2.50467996,\n",
        "       -2.33442058, -2.16416119, -1.9939018 , -1.82364242, -1.65338303,\n",
        "       -1.48312364, -1.31286426, -1.14260487, -0.97234548, -0.8020861 ,\n",
        "       -0.63182671, -0.46156732, -0.29130794, -0.12104855,  0.04921084,\n",
        "        0.21947022,  0.38972961,  0.559989  ,  0.73024838,  0.90050777,\n",
        "        1.07076716,  1.24102654,  1.41128593,  1.58154532,  1.7518047 ,\n",
        "        1.92206409,  2.09232348,  2.26258286,  2.43284225,  2.60310164,\n",
        "        2.77336102,  2.94362041,  3.1138798 ,  3.28413918,  3.45439857,\n",
        "        3.62465795,  3.79491734,  3.96517673,  4.13543611,  4.3056955 ,\n",
        "        4.47595489]),\n",
        " <a list of 50 Patch objects>)"
       ]
      },
      {
       "metadata": {},
       "output_type": "display_data",
       "png": "[encoded data removed]",
       "text": [
        "<matplotlib.figure.Figure at 0x3469cd0>"
       ]
      }
     ],
     "prompt_number": 46
    },
    {
     "cell_type": "markdown",
     "metadata": {},
     "source": [
      "Class Objects\n",
      "-------------\n",
      "\n",
      "Python is what is known as an object-oriented programming language. This means python allows a programmer to define special custom data structures called classes that not only can contain their own data elements, but special fucntions called methods that can potentially alter a class instance's internal state. \n",
      "\n",
      "Classes are defined through the keyword `class`, followed by the name of the class, which, by convention, is capitalized. This is followed by a code block that specifies the methods that define a class. Note that classes are a rich and complex topic in python. However, much of the functionality a data scientist may wish to use, in particular, python's machine learning libraries, will be accessed through class objects. Please see the [official documentation](http://docs.python.org/2/tutorial/classes.html) for more info."
     ]
    },
    {
     "cell_type": "code",
     "collapsed": false,
     "input": [
      "# defining a class\n",
      "class TestClass:\n",
      "    def im_a_class(self):\n",
      "        print \"hi! i'm a class!\"\n",
      "\n",
      "    def hello(self, name):\n",
      "        print \"hello %s!\" % name"
     ],
     "language": "python",
     "metadata": {},
     "outputs": []
    },
    {
     "cell_type": "markdown",
     "metadata": {},
     "source": [
      "Note that the method functions inside the class definition take a special extra parameter, `self`. This tells the method that it is assigned to an example of a class, and when it is invoked, it potentially operates on that example, but not other examples of that class.\n",
      "\n",
      "Concrete examples of classes are called class objects. These are created using a special function called a class constructor. In python, unless the programmer specifies otherwise, all classes are assigned a class constructor that doesn't take any arguments, and doesn't do anything beyond create a new example class object. These constructor functions are invoked by calling the class name as if you were calling a function, that is, using the class name with parentheses afterwards.\n",
      "\n",
      "Methods associated with a class can be invoked by the special dot operator (`.`). Here, you take a class object, a concrete example of a class, often assigned to a variable, then use the dot character (`.`), then the method you wish to call. This method operates only on the class object to the left of the dot. The arguments passed to these methods ignore the special `self`, keyword mentioned above, you only need to pass in what is to the right of this keyword, if anything."
     ]
    },
    {
     "cell_type": "code",
     "collapsed": false,
     "input": [
      "a_test_class_variable = TestClass()\n",
      "a_test_class_variable.im_a_class()\n",
      "\n",
      "a_test_class_variable.hello(\"panos\")"
     ],
     "language": "python",
     "metadata": {},
     "outputs": []
    },
    {
     "cell_type": "markdown",
     "metadata": {},
     "source": [
      "As mentioned above, classes always have a special function called a constructor that is used to build concrete instances of class objects. A programmer can define their own constructor function, defining any actions that are performed when building a new class object, and data that are used internally within a class object. Like all functions, constructors can take arguments that can be used during their execution. Like methods in a class, the constructor definition takes the special `self` parameter as the left most argument in it's definition. This allows you to modify the internal state of the class object being constructed. Here is an example class with a custom constructor. Note that internal variables or methods can be accessed through the dot operator on `self`."
     ]
    },
    {
     "cell_type": "code",
     "collapsed": false,
     "input": [
      "class Person:\n",
      "    \n",
      "    def __init__(self, first_name, last_name):\n",
      "        # this constructor sets the values of \"member variables\"\n",
      "        # in the concrete class object being constructed\n",
      "        self.first = first_name\n",
      "        self.last = last_name\n",
      "        self.screams = 0\n",
      "\n",
      "    def scream(self):\n",
      "        # modifying an internal example\n",
      "        self.screams = self.screams + 1\n",
      "        print \"%s has screamed %d times\" % (self.first, self.screams)\n",
      "        \n",
      "panos = Person(\"Panos\", \"Ipeirotis\")\n",
      "panos.scream()\n",
      "panos.scream()\n",
      "# accessing the value of a member variable\n",
      "print \"First Name:\", panos.first\n",
      "print \"Last Name:\", panos.last\n",
      "print \"Num of Screams:\", panos.screams\n"
     ],
     "language": "python",
     "metadata": {},
     "outputs": []
    },
    {
     "cell_type": "markdown",
     "metadata": {},
     "source": [
      "List Comprehensions\n",
      "-------------------\n",
      "\n",
      "The practical data scientist often faces situations where one list is to be transformed into another list, transforming the values in the input array, filtering out certain undesired values, etc. List comprehensions are a natural, flexible way to perform these transformations on the elements in a list. \n",
      "\n",
      "The syntax of list comprehensions is based on the way mathematicians define sets and lists, a syntax that leaves it clear what the contents should be:\n",
      "\n",
      "+ `S = {x\u00b2 : x in {0 ... 9}}`\n",
      "\n",
      "+ `V = (1, 2, 4, 8, ..., 2\u00b9\u00b2)`\n",
      "\n",
      "+ `M = {x | x in S and x even}`\n",
      "\n",
      "\n",
      "Python's list comprehensions give a very natural way to write statements just like these. You can write math-like expressions without having to much special syntax."
     ]
    },
    {
     "cell_type": "code",
     "collapsed": false,
     "input": [
      "import math\n",
      "S = [math.pow(x, 2) for x in range(0,10)]  # using list comprehensive\n",
      "print S\n",
      "\n",
      "S = []\n",
      "for x in range(0,10):\n",
      "     S.append(math.pow(x,2))   # not using\n",
      "print S"
     ],
     "language": "python",
     "metadata": {},
     "outputs": [
      {
       "output_type": "stream",
       "stream": "stdout",
       "text": [
        "[0.0, 1.0, 4.0, 9.0, 16.0, 25.0, 36.0, 49.0, 64.0, 81.0]\n",
        "[0.0, 1.0, 4.0, 9.0, 16.0, 25.0, 36.0, 49.0, 64.0, 81.0]\n"
       ]
      }
     ],
     "prompt_number": 47
    },
    {
     "cell_type": "markdown",
     "metadata": {},
     "source": [
      "**Note the list comprehension for deriving M uses a \"if statement\" to filter out those values that aren't of interest**, restricting to only the even perfect squares.\n"
     ]
    },
    {
     "cell_type": "code",
     "collapsed": false,
     "input": [
      "import math\n",
      "S = [math.pow(x, 2) for x in range(0,10)]\n",
      "V = [math.pow(2, x) for x in range(0, 13)]\n",
      "M = [x for x in S if x%2 == 0]\n",
      "\n",
      "print S\n",
      "print V\n",
      "print M"
     ],
     "language": "python",
     "metadata": {},
     "outputs": [
      {
       "output_type": "stream",
       "stream": "stdout",
       "text": [
        "[0.0, 1.0, 4.0, 9.0, 16.0, 25.0, 36.0, 49.0, 64.0, 81.0]\n",
        "[1.0, 2.0, 4.0, 8.0, 16.0, 32.0, 64.0, 128.0, 256.0, 512.0, 1024.0, 2048.0, 4096.0]\n",
        "[0.0, 4.0, 16.0, 36.0, 64.0]\n"
       ]
      }
     ],
     "prompt_number": 48
    },
    {
     "cell_type": "markdown",
     "metadata": {},
     "source": [
      "These are simple examples, using numerical compuation. In the following operation we transform a string into an list of values, a more complex operation: "
     ]
    },
    {
     "cell_type": "code",
     "collapsed": false,
     "input": [
      "words = 'The quick brown fox jumps over the lazy dog'\n",
      "[[w.upper(), w.lower()] for w in words.split()]"
     ],
     "language": "python",
     "metadata": {},
     "outputs": [
      {
       "metadata": {},
       "output_type": "pyout",
       "prompt_number": 49,
       "text": [
        "[['THE', 'the'],\n",
        " ['QUICK', 'quick'],\n",
        " ['BROWN', 'brown'],\n",
        " ['FOX', 'fox'],\n",
        " ['JUMPS', 'jumps'],\n",
        " ['OVER', 'over'],\n",
        " ['THE', 'the'],\n",
        " ['LAZY', 'lazy'],\n",
        " ['DOG', 'dog']]"
       ]
      }
     ],
     "prompt_number": 49
    },
    {
     "cell_type": "markdown",
     "metadata": {},
     "source": [
      "#### Exercise\n",
      "\n",
      "List each word and its length from the string 'The quick brown fox jumps over the lazy dog', conditioned on the length of the word being four characters and above"
     ]
    },
    {
     "cell_type": "code",
     "collapsed": false,
     "input": [
      "# your code here\n",
      "words = 'The quick brown fox jumps over the lazy dog'\n",
      "[[w, len(w)] for w in words.split() if len(w) >= 4]"
     ],
     "language": "python",
     "metadata": {},
     "outputs": [
      {
       "metadata": {},
       "output_type": "pyout",
       "prompt_number": 60,
       "text": [
        "[['quick', 5], ['brown', 5], ['jumps', 5], ['over', 4], ['lazy', 4]]"
       ]
      }
     ],
     "prompt_number": 60
    },
    {
     "cell_type": "code",
     "collapsed": false,
     "input": [
      "words = 'The quick brown fox jumps over the lazy dog'\n",
      "[{w: len(w)} for w in words.split() if len(w) >= 4 and len(w) <= 6]"
     ],
     "language": "python",
     "metadata": {},
     "outputs": [
      {
       "metadata": {},
       "output_type": "pyout",
       "prompt_number": 66,
       "text": [
        "[{'quick': 5}, {'brown': 5}, {'jumps': 5}, {'over': 4}, {'lazy': 4}]"
       ]
      }
     ],
     "prompt_number": 66
    },
    {
     "cell_type": "code",
     "collapsed": false,
     "input": [],
     "language": "python",
     "metadata": {},
     "outputs": []
    }
   ],
   "metadata": {}
  }
 ]
}