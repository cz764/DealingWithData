{
 "metadata": {
  "name": ""
 },
 "nbformat": 3,
 "nbformat_minor": 0,
 "worksheets": [
  {
   "cells": [
    {
     "cell_type": "markdown",
     "metadata": {},
     "source": [
      "This is a copy of the [XPath tutorial from W3Schools](http://www.w3schools.com/xpath/xpath_syntax.asp)"
     ]
    },
    {
     "cell_type": "markdown",
     "metadata": {},
     "source": [
      "### XPath Terminology\n",
      "\n",
      "#### Nodes\n",
      "\n",
      "\n",
      "XML documents are treated as trees of nodes. The topmost element of the tree is called the root element. Look at the following XML document that has `<bookstore>` as the root element:"
     ]
    },
    {
     "cell_type": "raw",
     "metadata": {},
     "source": [
      "<bookstore>\n",
      "  <book>\n",
      "    <title lang=\"en\">Harry Potter</title>\n",
      "    <author>J K. Rowling</author>\n",
      "    <year>2005</year>\n",
      "    <price>29.99</price>\n",
      "  </book>\n",
      "</bookstore>"
     ]
    },
    {
     "cell_type": "markdown",
     "metadata": {},
     "source": [
      "There are seven kinds of nodes: element, attribute, text, namespace, processing-instruction, comment, and document nodes. In our class, we will not deal with namespace, processing-instruction, comment, but it is useful to be aware of those.\n",
      "\n",
      "Example of nodes in the XML document above:\n",
      "\n"
     ]
    },
    {
     "cell_type": "raw",
     "metadata": {},
     "source": [
      "<bookstore> (root element node)\n",
      "\n",
      "<author>J K. Rowling</author> (element node)\n",
      "\n",
      "lang=\"en\" (attribute node)"
     ]
    },
    {
     "cell_type": "markdown",
     "metadata": {},
     "source": [
      "### Relationship of Nodes\n",
      "\n",
      "#### Parent\n",
      "\n",
      "Each element and attribute has one parent.\n",
      "\n",
      "In the following example; the book element is the parent of the title, author, year, and price:"
     ]
    },
    {
     "cell_type": "raw",
     "metadata": {},
     "source": [
      "<book>\n",
      "  <title lang=\"en\">Harry Potter</title>\n",
      "  <author>J K. Rowling</author>\n",
      "  <year>2005</year>\n",
      "  <price>29.99</price>\n",
      "</book>"
     ]
    },
    {
     "cell_type": "markdown",
     "metadata": {},
     "source": [
      "#### Children\n",
      "\n",
      "Element nodes may have zero, one or more children.\n",
      "\n",
      "In the following example; the title, author, year, and price elements are all children of the book element:"
     ]
    },
    {
     "cell_type": "raw",
     "metadata": {},
     "source": [
      "<book>\n",
      "  <title lang=\"en\">Harry Potter</title>\n",
      "  <author>J K. Rowling</author>\n",
      "  <year>2005</year>\n",
      "  <price>29.99</price>\n",
      "</book>"
     ]
    },
    {
     "cell_type": "markdown",
     "metadata": {},
     "source": [
      "#### Siblings\n",
      "\n",
      "Nodes that have the same parent.\n",
      "\n",
      "In the following example; the title, author, year, and price elements are all siblings:"
     ]
    },
    {
     "cell_type": "raw",
     "metadata": {},
     "source": [
      "<book>\n",
      "  <title lang=\"en\">Harry Potter</title>\n",
      "  <author>J K. Rowling</author>\n",
      "  <year>2005</year>\n",
      "  <price>29.99</price>\n",
      "</book>"
     ]
    },
    {
     "cell_type": "markdown",
     "metadata": {},
     "source": [
      "#### Ancestors\n",
      "\n",
      "A node's parent, parent's parent, etc.\n",
      "\n",
      "In the following example; the ancestors of the title element are the book element and the bookstore element:"
     ]
    },
    {
     "cell_type": "raw",
     "metadata": {},
     "source": [
      "<bookstore>\n",
      "\n",
      "<book>\n",
      "  <title lang=\"en\">Harry Potter</title>\n",
      "  <author>J K. Rowling</author>\n",
      "  <year>2005</year>\n",
      "  <price>29.99</price>\n",
      "</book>\n",
      "\n",
      "</bookstore>"
     ]
    },
    {
     "cell_type": "markdown",
     "metadata": {},
     "source": [
      "#### Descendants\n",
      "\n",
      "A node's children, children's children, etc.\n",
      "\n",
      "In the following example; descendants of the bookstore element are the book, title, author, year, and price elements:\n",
      "\n"
     ]
    },
    {
     "cell_type": "raw",
     "metadata": {},
     "source": [
      "<bookstore>\n",
      "\n",
      "<book>\n",
      "  <title>Harry Potter</title>\n",
      "  <author>J K. Rowling</author>\n",
      "  <year>2005</year>\n",
      "  <price>29.99</price>\n",
      "</book>\n",
      "\n",
      "</bookstore>"
     ]
    },
    {
     "cell_type": "markdown",
     "metadata": {},
     "source": [
      "## XPath Syntax\n",
      "\n",
      "XPath uses path expressions to select nodes or node-sets in an XML document. The node is selected by following a path or steps.\n",
      "\n",
      "### The XML Example Document\n",
      "We will use the following XML document in the examples below."
     ]
    },
    {
     "cell_type": "raw",
     "metadata": {},
     "source": [
      "<bookstore>\n",
      "\n",
      "<book>\n",
      "  <title lang=\"en\">Harry Potter</title>\n",
      "  <price>29.99</price>\n",
      "</book>\n",
      "\n",
      "<book>\n",
      "  <title lang=\"en\">Learning XML</title>\n",
      "  <price>39.95</price>\n",
      "</book>\n",
      "\n",
      "</bookstore>"
     ]
    },
    {
     "cell_type": "markdown",
     "metadata": {},
     "source": [
      "### Selecting Nodes\n",
      "\n",
      "XPath uses path expressions to select nodes in an XML document. The node is selected by following a path or steps. The most useful path expressions are listed below:"
     ]
    },
    {
     "cell_type": "markdown",
     "metadata": {},
     "source": [
      "| Expression | Description                                                                                           |\n",
      "|------------|-------------------------------------------------------------------------------------------------------|\n",
      "| nodename   | Selects all nodes with the name \"nodename\"                                                            |\n",
      "| /          | Selects from the root node                                                                            |\n",
      "| //         | Selects nodes in the document from the current node that match the selection no matter where they are |\n",
      "| .          | Selects the current node                                                                              |\n",
      "| ..         | Selects the parent of the current node                                                                |\n",
      "| @          | Selects attributes                                                                                    |"
     ]
    },
    {
     "cell_type": "markdown",
     "metadata": {},
     "source": [
      "In the table below we have listed some path expressions and the result of the expressions:"
     ]
    },
    {
     "cell_type": "markdown",
     "metadata": {},
     "source": [
      "| Path Expression | Result |\n",
      "|-----------------|------------------------------------------------------------------------------------------------------------------------------------|\n",
      "| bookstore | Selects all nodes with the name \"bookstore\" |\n",
      "| /bookstore | Selects the root element bookstoreNote: If the path starts with a slash ( / ) it always represents an absolute path to an element! |\n",
      "| bookstore/book | Selects all book elements that are children of bookstore |\n",
      "| //book | Selects all book elements no matter where they are in the document |\n",
      "| bookstore//book | Selects all book elements that are descendant of the bookstore element, no matter where they are under the bookstore element |\n",
      "| //@lang | Selects all attributes that are named lang |"
     ]
    },
    {
     "cell_type": "markdown",
     "metadata": {},
     "source": [
      "### Predicates\n",
      "\n",
      "Predicates are used to find a specific node or a node that contains a specific value.\n",
      "\n",
      "Predicates are always embedded in square brackets.\n",
      "\n",
      "In the table below we have listed some path expressions with predicates and the result of the expressions:\n",
      "\n"
     ]
    },
    {
     "cell_type": "markdown",
     "metadata": {},
     "source": [
      "| Path Expression                    \t| Result                                                                                                                                 \t|\n",
      "|------------------------------------\t|----------------------------------------------------------------------------------------------------------------------------------------\t|\n",
      "| /bookstore/book[1]                 \t| Selects the first book element that is the child of the bookstore element.                                                             \t|\n",
      "| /bookstore/book[last()]            \t| Selects the last book element that is the child of the bookstore element                                                               \t|\n",
      "| /bookstore/book[last()-1]          \t| Selects the last but one book element that is the child of the bookstore element                                                       \t|\n",
      "| /bookstore/book[position()<3]      \t| Selects the first two book elements that are children of the bookstore element                                                         \t|\n",
      "| //title[@lang]                     \t| Selects all the title elements that have an attribute named lang                                                                       \t|\n",
      "| //title[@lang='en']                \t| Selects all the title elements that have an attribute named lang with a value of 'en'                                                  \t|\n",
      "| /bookstore/book[price>35.00]       \t| Selects all the book elements of the bookstore element that have a price element with a value greater than 35.00                       \t|\n",
      "| /bookstore/book[price>35.00]/title \t| Selects all the title elements of the book elements of the bookstore element that have a price element with a value greater than 35.00 \t|"
     ]
    },
    {
     "cell_type": "markdown",
     "metadata": {},
     "source": [
      "## XPath Examples in Python"
     ]
    },
    {
     "cell_type": "raw",
     "metadata": {},
     "source": [
      "Let's create first our example file:"
     ]
    },
    {
     "cell_type": "code",
     "collapsed": false,
     "input": [
      "%%file books.xml\n",
      "<?xml version=\"1.0\" encoding=\"UTF-8\"?>\n",
      "\n",
      "<bookstore>\n",
      "\n",
      "<book category=\"COOKING\">\n",
      "  <title lang=\"en\">Everyday Italian</title>\n",
      "  <author>Giada De Laurentiis</author>\n",
      "  <year>2005</year>\n",
      "  <price>30.00</price>\n",
      "</book>\n",
      "\n",
      "<book category=\"CHILDREN\">\n",
      "  <title lang=\"en\">Harry Potter</title>\n",
      "  <author>J K. Rowling</author>\n",
      "  <year>2005</year>\n",
      "  <price>29.99</price>\n",
      "</book>\n",
      "\n",
      "<book category=\"WEB\">\n",
      "  <title lang=\"en\">XQuery Kick Start</title>\n",
      "  <author>James McGovern</author>\n",
      "  <author>Per Bothner</author>\n",
      "  <author>Kurt Cagle</author>\n",
      "  <author>James Linn</author>\n",
      "  <author>Vaidyanathan Nagarajan</author>\n",
      "  <year>2003</year>\n",
      "  <price>49.99</price>\n",
      "</book>\n",
      "\n",
      "<book category=\"WEB\">\n",
      "  <title lang=\"en\">Learning XML</title>\n",
      "  <author>Erik T. Ray</author>\n",
      "  <year>2003</year>\n",
      "  <price>39.95</price>\n",
      "</book>\n",
      "\n",
      "</bookstore>"
     ],
     "language": "python",
     "metadata": {},
     "outputs": [
      {
       "output_type": "stream",
       "stream": "stdout",
       "text": [
        "Writing books.xml\n"
       ]
      }
     ],
     "prompt_number": 1
    },
    {
     "cell_type": "markdown",
     "metadata": {},
     "source": [
      "We will now read the file in Python and create an XML document using the lxml package."
     ]
    },
    {
     "cell_type": "code",
     "collapsed": false,
     "input": [
      "from lxml import etree\n",
      "\n",
      "# Read the file\n",
      "filecontent = open(\"books.xml\", \"r\").read()\n",
      "doc  = etree.XML(filecontent)"
     ],
     "language": "python",
     "metadata": {},
     "outputs": [],
     "prompt_number": 2
    },
    {
     "cell_type": "markdown",
     "metadata": {},
     "source": [
      "Now let's get all the book nodes"
     ]
    },
    {
     "cell_type": "code",
     "collapsed": false,
     "input": [
      "result = doc.findall(\".//book\")\n",
      "len(result)"
     ],
     "language": "python",
     "metadata": {},
     "outputs": [
      {
       "metadata": {},
       "output_type": "pyout",
       "prompt_number": 3,
       "text": [
        "4"
       ]
      }
     ],
     "prompt_number": 3
    },
    {
     "cell_type": "markdown",
     "metadata": {},
     "source": [
      "And all the author nodes"
     ]
    },
    {
     "cell_type": "code",
     "collapsed": false,
     "input": [
      "result = doc.findall(\".//book/author\")\n",
      "len(result)"
     ],
     "language": "python",
     "metadata": {},
     "outputs": [
      {
       "metadata": {},
       "output_type": "pyout",
       "prompt_number": 4,
       "text": [
        "8"
       ]
      }
     ],
     "prompt_number": 4
    },
    {
     "cell_type": "markdown",
     "metadata": {},
     "source": [
      "We can use the `get` command to get an attribute:"
     ]
    },
    {
     "cell_type": "code",
     "collapsed": false,
     "input": [
      "result = doc.findall(\".//book\")\n",
      "categories = [r.get(\"category\") for r in result]\n",
      "categories"
     ],
     "language": "python",
     "metadata": {},
     "outputs": [
      {
       "metadata": {},
       "output_type": "pyout",
       "prompt_number": 5,
       "text": [
        "['COOKING', 'CHILDREN', 'WEB', 'WEB']"
       ]
      }
     ],
     "prompt_number": 5
    },
    {
     "cell_type": "markdown",
     "metadata": {},
     "source": [
      "And we can use the `.text` method to get the text of the node"
     ]
    },
    {
     "cell_type": "code",
     "collapsed": false,
     "input": [
      "result = doc.findall(\".//book/title\")\n",
      "titles = [r.text for r in result]\n",
      "titles"
     ],
     "language": "python",
     "metadata": {},
     "outputs": []
    },
    {
     "cell_type": "markdown",
     "metadata": {},
     "source": [
      "Here is a more advanced command, where we use two nested list compehensions to list the authors of a book"
     ]
    },
    {
     "cell_type": "code",
     "collapsed": false,
     "input": [
      "result = doc.findall(\".//book\")\n",
      "authors = [[t.text for t in r.findall(\".//author\")] for r in result]\n",
      "authors"
     ],
     "language": "python",
     "metadata": {},
     "outputs": []
    },
    {
     "cell_type": "markdown",
     "metadata": {},
     "source": [
      "If we only care for a single element (eg the first author only), we can use the command `.find` instead of the `.findall`:"
     ]
    },
    {
     "cell_type": "code",
     "collapsed": false,
     "input": [
      "result = doc.findall(\".//book\")\n",
      "authors = [r.find(\".//author\").text for r in result]\n",
      "authors"
     ],
     "language": "python",
     "metadata": {},
     "outputs": []
    },
    {
     "cell_type": "markdown",
     "metadata": {},
     "source": [
      "#### Issuing XPath queries directly in Python"
     ]
    },
    {
     "cell_type": "code",
     "collapsed": false,
     "input": [
      "result = doc.xpath(\"/bookstore/book/title\")\n",
      "titles = [r.text for r in result]\n",
      "titles"
     ],
     "language": "python",
     "metadata": {},
     "outputs": []
    },
    {
     "cell_type": "code",
     "collapsed": false,
     "input": [
      "result = doc.xpath(\"/bookstore/book[1]/title\")\n",
      "titles = [r.text for r in result]\n",
      "titles"
     ],
     "language": "python",
     "metadata": {},
     "outputs": []
    },
    {
     "cell_type": "code",
     "collapsed": false,
     "input": [
      "result = doc.xpath(\"/bookstore/book/price\")\n",
      "price = [r.text for r in result]\n",
      "price"
     ],
     "language": "python",
     "metadata": {},
     "outputs": []
    },
    {
     "cell_type": "code",
     "collapsed": false,
     "input": [
      "result = doc.xpath(\"/bookstore/book[price>35]/price\")\n",
      "price = [r.text for r in result]\n",
      "price"
     ],
     "language": "python",
     "metadata": {},
     "outputs": []
    },
    {
     "cell_type": "code",
     "collapsed": false,
     "input": [
      "result = doc.xpath(\"/bookstore/book[price>35]/title\")\n",
      "titles = [r.text for r in result]\n",
      "titles"
     ],
     "language": "python",
     "metadata": {},
     "outputs": []
    },
    {
     "cell_type": "code",
     "collapsed": false,
     "input": [],
     "language": "python",
     "metadata": {},
     "outputs": []
    }
   ],
   "metadata": {}
  }
 ]
}