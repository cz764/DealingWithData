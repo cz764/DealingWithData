{
 "metadata": {
  "name": ""
 },
 "nbformat": 3,
 "nbformat_minor": 0,
 "worksheets": [
  {
   "cells": [
    {
     "cell_type": "markdown",
     "metadata": {},
     "source": [
      "Overview\n",
      "--------\n",
      "Modern data science is impossible without some understanding of the Unix command line.  Unix is a family of computer operating systems including the Mac\u2019s OS X and Linux (technically, Linux is a Unix clone); Windows has also Unix emulators, which allow running Unix commands.  In our class, we use the Vagrant virtual machine, which allows you to have in your laptop a version of Linux, called Ubuntu.\n",
      "\n",
      "This document is a tutorial in some of the basic unix command-line utilities used for data gathering, searching, cleaning and summarizing. Generally, unix commands are very efficient, and can be used to process data that is quite large, beyond what can be loaded into your computer\u2019s main memory, and can easily handle workloads far exceeding the capabilities of tools like Excel. We will start by covering various Unix tools early on, showing how we can combine and pipeline their output, using pipes, filters, and redirection. \n",
      "\n",
      "Command-line Utilities\n",
      "----------------------\n",
      "\n",
      "This section gives some crucial unix utilities. This list is by no means exhaustive, and the ordering is not perfect; different tasks have different demands. Fortunately, unix has been around for a while and has an extremely active user base, developing a wide range of utilities for common data processing, networking, system management, and automation tasks.\n",
      "\n",
      "Once you are [familiar with programming](https://docs.google.com/a/stern.nyu.edu/document/pub?id=1p6vowsEuiezLbWnFKgse70a8LxfsrRixqPF5nBg8F3A), you will be able to write your own scripts in Python that can perform tasks which you are unable to accomplish using existing unix utilities. The tradeoff between writing hand-coded scripts and existing unix utilities is an increase in flexibility at the expense of increased development time, and therefore a reduction in the speed of iteration.\n",
      "\n",
      "Once you have access to the terminal in your Vagrant machine, try it out! Let's start:\n",
      "\n",
      "### `pwd`\n",
      "\n",
      "Prints the current directory. Type `pwd` in the shell prompt. This will tell you your current directory. (_**Note**: In IPython, to call a command line script, you add an exclamation mark before the command. That's why you will see all the commands in this notebook being preceded by a `!` character._)"
     ]
    },
    {
     "cell_type": "code",
     "collapsed": false,
     "input": [
      "!pwd"
     ],
     "language": "python",
     "metadata": {},
     "outputs": [
      {
       "output_type": "stream",
       "stream": "stdout",
       "text": [
        "/vagrant/ipynb\r\n"
       ]
      }
     ],
     "prompt_number": 1
    },
    {
     "cell_type": "markdown",
     "metadata": {},
     "source": [
      "###`ls`\n",
      "\n",
      "Lists the contents of a directory or provide information about the specified file. Typical usage: \n",
      "\n",
      "`ls [options] [files or directories]`\n",
      "\n",
      "If you want to know the contents of this directory, type `ls -A`. "
     ]
    },
    {
     "cell_type": "code",
     "collapsed": false,
     "input": [
      "!ls -laS"
     ],
     "language": "python",
     "metadata": {},
     "outputs": [
      {
       "output_type": "stream",
       "stream": "stdout",
       "text": [
        "total 140\r\n",
        "-rwxrwxrwx 1 vagrant vagrant 60206 Sep  8 18:12 Session 1 (Basic Unix Shell Commands and CURL).ipynb\r\n",
        "-rwxrwxrwx 1 vagrant vagrant 40276 Sep  8 04:03 Session 2 (Pipes, filters, and more Unix Commands).ipynb\r\n",
        "-rwxrwxrwx 1 vagrant vagrant 22124 Sep  3 16:27 Session 3 (Regular Expressions).ipynb\r\n",
        "dr-xr-xr-x 1 vagrant vagrant  8192 Sep  7 18:34 .\r\n",
        "dr-xr-xr-x 1 vagrant vagrant  4096 Sep  6 18:55 ..\r\n",
        "dr-xr-xr-x 1 vagrant vagrant  4096 Sep  7 18:47 .ipynb_checkpoints\r\n",
        "-rwxrwxrwx 1 vagrant vagrant   774 Sep  7 18:34 alldata.txt\r\n",
        "-rwxrwxrwx 1 vagrant vagrant   338 Sep  8 03:24 location.json\r\n",
        "-rwxrwxrwx 1 vagrant vagrant   201 Sep  3 03:07 sample.txt\r\n",
        "-rwxrwxrwx 1 vagrant vagrant   142 Sep  6 03:01 desktop.ini\r\n",
        "-rwxrwxrwx 1 vagrant vagrant    15 Sep  6 03:50 index.html\r\n"
       ]
      }
     ],
     "prompt_number": 4
    },
    {
     "cell_type": "markdown",
     "metadata": {},
     "source": [
      "Let's try now to execute ls with a different set of options:"
     ]
    },
    {
     "cell_type": "code",
     "collapsed": false,
     "input": [
      "!ls -A"
     ],
     "language": "python",
     "metadata": {},
     "outputs": [
      {
       "output_type": "stream",
       "stream": "stdout",
       "text": [
        ".ipynb_checkpoints\t\t\t\t\t  desktop.ini\r\n",
        "Session 1 (Basic Unix Shell Commands and CURL).ipynb\t  index.html\r\n",
        "Session 2 (Pipes, filters, and more Unix Commands).ipynb  location.json\r\n",
        "Session 3 (Regular Expressions).ipynb\t\t\t  sample.txt\r\n",
        "alldata.txt\r\n"
       ]
      }
     ],
     "prompt_number": 5
    },
    {
     "cell_type": "markdown",
     "metadata": {},
     "source": [
      "\n",
      "\n",
      "By default, ls simply lists the contents of the current directory. There are several options that when used in conjunction with ls give more detailed information about the files or directories being queried. Here are a sample:\n",
      "\n",
      "+ `-A`: list all of the contents of the queried directory, even hidden files.\n",
      "+ `-l`: detailed format, display additional info for all files and directories.\n",
      "+ `-R`: recursively list the contents of any subdirectories.\n",
      "+ `-t`: sort files by the time of the last modification.\n",
      "+ `-S`: sort files by size.\n",
      "+ `-r`: reverse any sort order.\n",
      "+ `-h`: when used in conjunction with `-l`, gives a more human-readable output.\n",
      "\n",
      "###`cd`\n",
      "\n",
      "Change the current directory. Usage: \n",
      "\n",
      "`cd [directory to move to]`\n",
      "\n",
      "For example, to change to the `/vagrant` directory (and then see the contents of that folder using the `ls` command) we type:"
     ]
    },
    {
     "cell_type": "code",
     "collapsed": false,
     "input": [
      "!cd /vagrant\n",
      "!ls -A"
     ],
     "language": "python",
     "metadata": {},
     "outputs": [
      {
       "output_type": "stream",
       "stream": "stdout",
       "text": [
        ".gitignore\t LICENSE.txt  desktop.ini\t       sample.txt\r\n",
        ".vagrant\t README.md    images\r\n",
        "CONTRIBUTING.md  Vagrantfile  ipynb\r\n",
        "DealingWithData  deploy       mtsw2e-requirements.txt\r\n"
       ]
      }
     ],
     "prompt_number": 7
    },
    {
     "cell_type": "markdown",
     "metadata": {},
     "source": [
      "### `mkdir`\n",
      "\n",
      "Creates a new folder. For example, to create a new folder named `DealingWithData` under the current folder, we type:\n"
     ]
    },
    {
     "cell_type": "code",
     "collapsed": false,
     "input": [
      "!mkdir DealingWithData\n",
      "!ls -lA"
     ],
     "language": "python",
     "metadata": {},
     "outputs": [
      {
       "output_type": "stream",
       "stream": "stdout",
       "text": [
        "total 32\r\n",
        "-rwxrwxrwx 1 vagrant vagrant   176 May 13 14:57 .gitignore\r\n",
        "dr-xr-xr-x 1 vagrant vagrant     0 Sep  6 03:01 .vagrant\r\n",
        "-rwxrwxrwx 1 vagrant vagrant  3285 May 13 14:57 CONTRIBUTING.md\r\n",
        "drwxrwxrwx 1 vagrant vagrant     0 Sep  6 17:08 DealingWithData\r\n",
        "-rwxrwxrwx 1 vagrant vagrant  1827 May 13 14:57 LICENSE.txt\r\n",
        "-rwxrwxrwx 1 vagrant vagrant 11320 May 13 14:57 README.md\r\n",
        "-rwxrwxrwx 1 vagrant vagrant  4068 May 13 14:57 Vagrantfile\r\n",
        "dr-xr-xr-x 1 vagrant vagrant     0 Sep  6 03:01 deploy\r\n",
        "-rwxrwxrwx 1 vagrant vagrant   142 Sep  6 03:01 desktop.ini\r\n",
        "dr-xr-xr-x 1 vagrant vagrant     0 Sep  6 03:01 images\r\n",
        "dr-xr-xr-x 1 vagrant vagrant  8192 Sep  6 04:13 ipynb\r\n",
        "-rwxrwxrwx 1 vagrant vagrant   625 May 13 14:57 mtsw2e-requirements.txt\r\n",
        "-rwxrwxrwx 1 vagrant vagrant   201 Sep  3 03:11 sample.txt\r\n"
       ]
      }
     ],
     "prompt_number": 14
    },
    {
     "cell_type": "markdown",
     "metadata": {},
     "source": [
      "### `rmdir` \n",
      "\n",
      "Removes a folder. (The folder must be empty for the command to succeed.)"
     ]
    },
    {
     "cell_type": "code",
     "collapsed": false,
     "input": [
      "!rmdir DealingWithData"
     ],
     "language": "python",
     "metadata": {},
     "outputs": [
      {
       "output_type": "stream",
       "stream": "stdout",
       "text": [
        "rmdir: failed to remove `DealingWithData': Operation not permitted\r\n"
       ]
      }
     ],
     "prompt_number": 15
    },
    {
     "cell_type": "markdown",
     "metadata": {},
     "source": [
      "### `cp` \n",
      "\n",
      "Copies a file. Usage:\n",
      "\n",
      "`cp [source file] [destination file]`\n",
      "\n",
      "It can also be used to copy multiple files into a directory.\n",
      "\n",
      "`cp [source file1] [source file2] ... [destination directory]`\n",
      "\n",
      "For example, to copy the file LICENSE.txt and create a new file LICENSE_new.txt "
     ]
    },
    {
     "cell_type": "code",
     "collapsed": false,
     "input": [
      "!cp LICENSE.txt LICENSE_new.txt\n",
      "!ls -lA"
     ],
     "language": "python",
     "metadata": {},
     "outputs": [
      {
       "output_type": "stream",
       "stream": "stdout",
       "text": [
        "total 34\r\n",
        "-rwxrwxrwx 1 vagrant vagrant   176 May 13 14:57 .gitignore\r\n",
        "dr-xr-xr-x 1 vagrant vagrant     0 Sep  6 03:01 .vagrant\r\n",
        "-rwxrwxrwx 1 vagrant vagrant  3285 May 13 14:57 CONTRIBUTING.md\r\n",
        "dr-xr-xr-x 1 vagrant vagrant     0 Sep  6 17:08 DealingWithData\r\n",
        "-rwxrwxrwx 1 vagrant vagrant  1827 May 13 14:57 LICENSE.txt\r\n",
        "-rwxrwxrwx 1 vagrant vagrant  1827 Sep  6 18:55 LICENSE_new.txt\r\n",
        "-rwxrwxrwx 1 vagrant vagrant 11320 May 13 14:57 README.md\r\n",
        "-rwxrwxrwx 1 vagrant vagrant  4068 May 13 14:57 Vagrantfile\r\n",
        "dr-xr-xr-x 1 vagrant vagrant     0 Sep  6 03:01 deploy\r\n",
        "-rwxrwxrwx 1 vagrant vagrant   142 Sep  6 03:01 desktop.ini\r\n",
        "dr-xr-xr-x 1 vagrant vagrant     0 Sep  6 03:01 images\r\n",
        "dr-xr-xr-x 1 vagrant vagrant  8192 Sep  6 04:13 ipynb\r\n",
        "-rwxrwxrwx 1 vagrant vagrant   625 May 13 14:57 mtsw2e-requirements.txt\r\n",
        "-rwxrwxrwx 1 vagrant vagrant   201 Sep  3 03:11 sample.txt\r\n"
       ]
      }
     ],
     "prompt_number": 17
    },
    {
     "cell_type": "markdown",
     "metadata": {},
     "source": [
      "Or we can copy the file to another folder. For example, the following command copies file LICENSE.txt to folder DealingWithData and names the new file LICENSE2.txt"
     ]
    },
    {
     "cell_type": "code",
     "collapsed": false,
     "input": [
      "!cp LICENSE.txt DealingWithData/LICENSE2.txt\n",
      "!ls -lA DealingWithData"
     ],
     "language": "python",
     "metadata": {},
     "outputs": [
      {
       "output_type": "stream",
       "stream": "stdout",
       "text": [
        "total 3\r\n",
        "-rwxrwxrwx 1 vagrant vagrant 1827 Sep  6 18:55 LICENSE2.txt\r\n",
        "-rwxrwxrwx 1 vagrant vagrant  142 Sep  6 17:08 desktop.ini\r\n"
       ]
      }
     ],
     "prompt_number": 18
    },
    {
     "cell_type": "markdown",
     "metadata": {},
     "source": [
      "### `rm` \n",
      "\n",
      "The `rm` command is used to delete a file.\n",
      "\n",
      "rm -r : deletes a folder, recursively\n",
      "\n",
      "\n",
      "### `mv`\n",
      "\n",
      "The `mv` command is similar to `cp` but it moves the file instead of just copying it. Effectively it performs a `cp` command, followed by an `rm` for the original file\n",
      "\n",
      "### `man` \n",
      "\n",
      "The `man` command shows the instructions (manual) for that command. For example, if we want to see all the options for the command `ls`, we type:"
     ]
    },
    {
     "cell_type": "code",
     "collapsed": false,
     "input": [
      "!man ls"
     ],
     "language": "python",
     "metadata": {},
     "outputs": [
      {
       "output_type": "stream",
       "stream": "stdout",
       "text": [
        "LS(1)                            User Commands                           LS(1)\r\n",
        "\r\n",
        "\r\n",
        "\r\n",
        "N\bNA\bAM\bME\bE\r\n",
        "       ls - list directory contents\r\n",
        "\r\n",
        "S\bSY\bYN\bNO\bOP\bPS\bSI\bIS\bS\r\n",
        "       l\bls\bs [_\bO_\bP_\bT_\bI_\bO_\bN]... [_\bF_\bI_\bL_\bE]...\r\n",
        "\r\n",
        "D\bDE\bES\bSC\bCR\bRI\bIP\bPT\bTI\bIO\bON\bN\r\n",
        "       List  information  about  the FILEs (the current directory by default).\r\n",
        "       Sort entries alphabetically if none of -\b-c\bcf\bft\btu\buv\bvS\bSU\bUX\bX nor -\b--\b-s\bso\bor\brt\bt  is  speci-\r\n",
        "       fied.\r\n",
        "\r\n",
        "       Mandatory  arguments  to  long  options are mandatory for short options\r\n",
        "       too.\r\n",
        "\r\n",
        "       -\b-a\ba, -\b--\b-a\bal\bll\bl\r\n",
        "              do not ignore entries starting with .\r\n",
        "\r\n",
        "       -\b-A\bA, -\b--\b-a\bal\blm\bmo\bos\bst\bt-\b-a\bal\bll\bl\r\n",
        "              do not list implied . and ..\r\n",
        "\r\n",
        "       -\b--\b-a\bau\but\bth\bho\bor\br\r\n",
        "              with -\b-l\bl, print the author of each file\r\n",
        "\r\n",
        "       -\b-b\bb, -\b--\b-e\bes\bsc\bca\bap\bpe\be\r\n",
        "              print C-style escapes for nongraphic characters\r\n",
        "\r\n",
        "       -\b--\b-b\bbl\blo\boc\bck\bk-\b-s\bsi\biz\bze\be=_\bS_\bI_\bZ_\bE\r\n",
        "              scale   sizes   by   SIZE   before   printing    them.     E.g.,\r\n",
        "              `--block-size=M'  prints sizes in units of 1,048,576 bytes.  See\r\n",
        "              SIZE format below.\r\n",
        "\r\n",
        "       -\b-B\bB, -\b--\b-i\big\bgn\bno\bor\bre\be-\b-b\bba\bac\bck\bku\bup\bps\bs\r\n",
        "              do not list implied entries ending with ~\r\n",
        "\r\n",
        "       -\b-c\bc     with -\b-l\blt\bt: sort by, and show, ctime (time of last modification of\r\n",
        "              file  status  information)  with -\b-l\bl: show ctime and sort by name\r\n",
        "              otherwise: sort by ctime, newest first\r\n",
        "\r\n",
        "       -\b-C\bC     list entries by columns\r\n",
        "\r\n",
        "       -\b--\b-c\bco\bol\blo\bor\br[=_\bW_\bH_\bE_\bN]\r\n",
        "              colorize the output.   WHEN  defaults  to  `always'  or  can  be\r\n",
        "              `never' or `auto'.  More info below\r\n",
        "\r\n",
        "       -\b-d\bd, -\b--\b-d\bdi\bir\bre\bec\bct\bto\bor\bry\by\r\n",
        "              list  directory entries instead of contents, and do not derefer-\r\n",
        "              ence symbolic links\r\n",
        "\r\n",
        "       -\b-D\bD, -\b--\b-d\bdi\bir\bre\bed\bd\r\n",
        "              generate output designed for Emacs' dired mode\r\n",
        "\r\n",
        "       -\b-f\bf     do not sort, enable -\b-a\baU\bU, disable -\b-l\bls\bs -\b--\b-c\bco\bol\blo\bor\br\r\n",
        "\r\n",
        "       -\b-F\bF, -\b--\b-c\bcl\bla\bas\bss\bsi\bif\bfy\by\r\n",
        "              append indicator (one of */=>@|) to entries\r\n",
        "\r\n",
        "       -\b--\b-f\bfi\bil\ble\be-\b-t\bty\byp\bpe\be\r\n",
        "              likewise, except do not append `*'\r\n",
        "\r\n",
        "       -\b--\b-f\bfo\bor\brm\bma\bat\bt=_\bW_\bO_\bR_\bD\r\n",
        "              across -\b-x\bx, commas -\b-m\bm, horizontal -\b-x\bx, long -\b-l\bl, single-column  -\b-1\b1,\r\n",
        "              verbose -\b-l\bl, vertical -\b-C\bC\r\n",
        "\r\n",
        "       -\b--\b-f\bfu\bul\bll\bl-\b-t\bti\bim\bme\be\r\n",
        "              like -\b-l\bl -\b--\b-t\bti\bim\bme\be-\b-s\bst\bty\byl\ble\be=_\bf_\bu_\bl_\bl_\b-_\bi_\bs_\bo\r\n",
        "\r\n",
        "       -\b-g\bg     like -\b-l\bl, but do not list owner\r\n",
        "\r\n",
        "       -\b--\b-g\bgr\bro\bou\bup\bp-\b-d\bdi\bir\bre\bec\bct\bto\bor\bri\bie\bes\bs-\b-f\bfi\bir\brs\bst\bt\r\n",
        "              group directories before files.\r\n",
        "\r\n",
        "              augment  with  a  -\b--\b-s\bso\bor\brt\bt option, but any use of -\b--\b-s\bso\bor\brt\bt=_\bn_\bo_\bn_\be (-\b-U\bU)\r\n",
        "              disables grouping\r\n",
        "\r\n",
        "       -\b-G\bG, -\b--\b-n\bno\bo-\b-g\bgr\bro\bou\bup\bp\r\n",
        "              in a long listing, don't print group names\r\n",
        "\r\n",
        "       -\b-h\bh, -\b--\b-h\bhu\bum\bma\ban\bn-\b-r\bre\bea\bad\bda\bab\bbl\ble\be\r\n",
        "              with -\b-l\bl, print sizes in human readable format (e.g., 1K 234M 2G)\r\n",
        "\r\n",
        "       -\b--\b-s\bsi\bi   likewise, but use powers of 1000 not 1024\r\n",
        "\r\n",
        "       -\b-H\bH, -\b--\b-d\bde\ber\bre\bef\bfe\ber\bre\ben\bnc\bce\be-\b-c\bco\bom\bmm\bma\ban\bnd\bd-\b-l\bli\bin\bne\be\r\n",
        "              follow symbolic links listed on the command line\r\n",
        "\r\n",
        "       -\b--\b-d\bde\ber\bre\bef\bfe\ber\bre\ben\bnc\bce\be-\b-c\bco\bom\bmm\bma\ban\bnd\bd-\b-l\bli\bin\bne\be-\b-s\bsy\bym\bml\bli\bin\bnk\bk-\b-t\bto\bo-\b-d\bdi\bir\br\r\n",
        "              follow each command line symbolic link that points to  a  direc-\r\n",
        "              tory\r\n",
        "\r\n",
        "       -\b--\b-h\bhi\bid\bde\be=_\bP_\bA_\bT_\bT_\bE_\bR_\bN\r\n",
        "              do  not  list implied entries matching shell PATTERN (overridden\r\n",
        "              by -\b-a\ba or -\b-A\bA)\r\n",
        "\r\n",
        "       -\b--\b-i\bin\bnd\bdi\bic\bca\bat\bto\bor\br-\b-s\bst\bty\byl\ble\be=_\bW_\bO_\bR_\bD\r\n",
        "              append indicator with style WORD to entry names: none (default),\r\n",
        "              slash (-\b-p\bp), file-type (-\b--\b-f\bfi\bil\ble\be-\b-t\bty\byp\bpe\be), classify (-\b-F\bF)\r\n",
        "\r\n",
        "       -\b-i\bi, -\b--\b-i\bin\bno\bod\bde\be\r\n",
        "              print the index number of each file\r\n",
        "\r\n",
        "       -\b-I\bI, -\b--\b-i\big\bgn\bno\bor\bre\be=_\bP_\bA_\bT_\bT_\bE_\bR_\bN\r\n",
        "              do not list implied entries matching shell PATTERN\r\n",
        "\r\n",
        "       -\b-k\bk     like -\b--\b-b\bbl\blo\boc\bck\bk-\b-s\bsi\biz\bze\be=_\b1_\bK\r\n",
        "\r\n"
       ]
      },
      {
       "output_type": "stream",
       "stream": "stdout",
       "text": [
        "       -\b-l\bl     use a long listing format\r\n",
        "\r\n",
        "       -\b-L\bL, -\b--\b-d\bde\ber\bre\bef\bfe\ber\bre\ben\bnc\bce\be\r\n",
        "              when showing file information for a symbolic link, show informa-\r\n",
        "              tion for the file the link references rather than for  the  link\r\n",
        "              itself\r\n",
        "\r\n",
        "       -\b-m\bm     fill width with a comma separated list of entries\r\n",
        "\r\n",
        "       -\b-n\bn, -\b--\b-n\bnu\bum\bme\ber\bri\bic\bc-\b-u\bui\bid\bd-\b-g\bgi\bid\bd\r\n",
        "              like -\b-l\bl, but list numeric user and group IDs\r\n",
        "\r\n",
        "       -\b-N\bN, -\b--\b-l\bli\bit\bte\ber\bra\bal\bl\r\n",
        "              print  raw entry names (don't treat e.g. control characters spe-\r\n",
        "              cially)\r\n",
        "\r\n",
        "       -\b-o\bo     like -\b-l\bl, but do not list group information\r\n",
        "\r\n",
        "       -\b-p\bp, -\b--\b-i\bin\bnd\bdi\bic\bca\bat\bto\bor\br-\b-s\bst\bty\byl\ble\be=_\bs_\bl_\ba_\bs_\bh\r\n",
        "              append / indicator to directories\r\n",
        "\r\n",
        "       -\b-q\bq, -\b--\b-h\bhi\bid\bde\be-\b-c\bco\bon\bnt\btr\bro\bol\bl-\b-c\bch\bha\bar\brs\bs\r\n",
        "              print ? instead of non graphic characters\r\n",
        "\r\n",
        "       -\b--\b-s\bsh\bho\bow\bw-\b-c\bco\bon\bnt\btr\bro\bol\bl-\b-c\bch\bha\bar\brs\bs\r\n",
        "              show non graphic characters as-is  (default  unless  program  is\r\n",
        "              `ls' and output is a terminal)\r\n",
        "\r\n",
        "       -\b-Q\bQ, -\b--\b-q\bqu\buo\bot\bte\be-\b-n\bna\bam\bme\be\r\n",
        "              enclose entry names in double quotes\r\n",
        "\r\n",
        "       -\b--\b-q\bqu\buo\bot\bti\bin\bng\bg-\b-s\bst\bty\byl\ble\be=_\bW_\bO_\bR_\bD\r\n",
        "              use  quoting style WORD for entry names: literal, locale, shell,\r\n",
        "              shell-always, c, escape\r\n",
        "\r\n",
        "       -\b-r\br, -\b--\b-r\bre\bev\bve\ber\brs\bse\be\r\n",
        "              reverse order while sorting\r\n",
        "\r\n",
        "       -\b-R\bR, -\b--\b-r\bre\bec\bcu\bur\brs\bsi\biv\bve\be\r\n",
        "              list subdirectories recursively\r\n",
        "\r\n",
        "       -\b-s\bs, -\b--\b-s\bsi\biz\bze\be\r\n",
        "              print the allocated size of each file, in blocks\r\n",
        "\r\n",
        "       -\b-S\bS     sort by file size\r\n",
        "\r\n",
        "       -\b--\b-s\bso\bor\brt\bt=_\bW_\bO_\bR_\bD\r\n",
        "              sort by WORD instead of name: none -\b-U\bU, extension  -\b-X\bX,  size  -\b-S\bS,\r\n",
        "              time -\b-t\bt, version -\b-v\bv\r\n",
        "\r\n",
        "       -\b--\b-t\bti\bim\bme\be=_\bW_\bO_\bR_\bD\r\n",
        "              with  -\b-l\bl,  show time as WORD instead of modification time: atime\r\n",
        "              -\b-u\bu, access -\b-u\bu, use -\b-u\bu, ctime -\b-c\bc, or  status  -\b-c\bc;  use  specified\r\n",
        "              time as sort key if -\b--\b-s\bso\bor\brt\bt=_\bt_\bi_\bm_\be\r\n",
        "\r\n",
        "       -\b--\b-t\bti\bim\bme\be-\b-s\bst\bty\byl\ble\be=_\bS_\bT_\bY_\bL_\bE\r\n",
        "              with  -\b-l\bl, show times using style STYLE: full-iso, long-iso, iso,\r\n",
        "              locale, +FORMAT.  FORMAT is interpreted like `date';  if  FORMAT\r\n",
        "              is  FORMAT1<newline>FORMAT2, FORMAT1 applies to non-recent files\r\n",
        "              and FORMAT2 to recent files; if STYLE is prefixed with `posix-',\r\n",
        "              STYLE takes effect only outside the POSIX locale\r\n",
        "\r\n",
        "       -\b-t\bt     sort by modification time, newest first\r\n",
        "\r\n",
        "       -\b-T\bT, -\b--\b-t\bta\bab\bbs\bsi\biz\bze\be=_\bC_\bO_\bL_\bS\r\n",
        "              assume tab stops at each COLS instead of 8\r\n",
        "\r\n",
        "       -\b-u\bu     with  -\b-l\blt\bt:  sort  by, and show, access time with -\b-l\bl: show access\r\n",
        "              time and sort by name otherwise: sort by access time\r\n",
        "\r\n",
        "       -\b-U\bU     do not sort; list entries in directory order\r\n",
        "\r\n",
        "       -\b-v\bv     natural sort of (version) numbers within text\r\n",
        "\r\n",
        "       -\b-w\bw, -\b--\b-w\bwi\bid\bdt\bth\bh=_\bC_\bO_\bL_\bS\r\n",
        "              assume screen width instead of current value\r\n",
        "\r\n",
        "       -\b-x\bx     list entries by lines instead of by columns\r\n",
        "\r\n",
        "       -\b-X\bX     sort alphabetically by entry extension\r\n",
        "\r\n",
        "       -\b-Z\bZ, -\b--\b-c\bco\bon\bnt\bte\bex\bxt\bt\r\n",
        "              print any SELinux security context of each file\r\n",
        "\r\n",
        "       -\b-1\b1     list one file per line\r\n",
        "\r\n",
        "       -\b--\b-h\bhe\bel\blp\bp display this help and exit\r\n",
        "\r\n",
        "       -\b--\b-v\bve\ber\brs\bsi\bio\bon\bn\r\n",
        "              output version information and exit\r\n",
        "\r\n",
        "       SIZE may be (or may be an integer optionally followed by) one  of  fol-\r\n",
        "       lowing: KB 1000, K 1024, MB 1000*1000, M 1024*1024, and so on for G, T,\r\n",
        "       P, E, Z, Y.\r\n",
        "\r\n",
        "       Using color to distinguish file types is disabled both by  default  and\r\n",
        "       with  -\b--\b-c\bco\bol\blo\bor\br=_\bn_\be_\bv_\be_\br.  With -\b--\b-c\bco\bol\blo\bor\br=_\ba_\bu_\bt_\bo, ls emits color codes only when\r\n",
        "       standard output is connected to a terminal.  The LS_COLORS  environment\r\n",
        "       variable can change the settings.  Use the dircolors command to set it.\r\n",
        "\r\n",
        "   E\bEx\bxi\bit\bt s\bst\bta\bat\btu\bus\bs:\b:\r\n",
        "       0      if OK,\r\n",
        "\r\n",
        "       1      if minor problems (e.g., cannot access subdirectory),\r\n",
        "\r\n",
        "       2      if serious trouble (e.g., cannot access command-line argument).\r\n",
        "\r\n",
        "A\bAU\bUT\bTH\bHO\bOR\bR\r\n",
        "       Written by Richard M. Stallman and David MacKenzie.\r\n",
        "\r\n",
        "R\bRE\bEP\bPO\bOR\bRT\bTI\bIN\bNG\bG B\bBU\bUG\bGS\bS\r\n",
        "       Report ls bugs to bug-coreutils@gnu.org\r\n",
        "       GNU coreutils home page: <http://www.gnu.org/software/coreutils/>\r\n",
        "       General help using GNU software: <http://www.gnu.org/gethelp/>\r\n",
        "       Report ls translation bugs to <http://translationproject.org/team/>\r\n",
        "\r\n",
        "C\bCO\bOP\bPY\bYR\bRI\bIG\bGH\bHT\bT\r\n",
        "       Copyright  (C) 2011 Free Software Foundation, Inc.  License GPLv3+: GNU\r\n",
        "       GPL version 3 or later <http://gnu.org/licenses/gpl.html>.\r\n",
        "       This is free software: you are free  to  change  and  redistribute  it.\r\n",
        "       There is NO WARRANTY, to the extent permitted by law.\r\n",
        "\r\n",
        "S\bSE\bEE\bE A\bAL\bLS\bSO\bO\r\n",
        "       The  full  documentation  for l\bls\bs is maintained as a Texinfo manual.  If\r\n",
        "       the i\bin\bnf\bfo\bo and l\bls\bs programs are properly installed at your site, the  com-\r\n",
        "       mand\r\n",
        "\r\n",
        "              i\bin\bnf\bfo\bo c\bco\bor\bre\beu\but\bti\bil\bls\bs '\b'l\bls\bs i\bin\bnv\bvo\boc\bca\bat\bti\bio\bon\bn'\b'\r\n",
        "\r\n",
        "       should give you access to the complete manual.\r\n",
        "\r\n",
        "\r\n",
        "\r\n",
        "GNU coreutils 8.12.197-032bb    September 2011                           LS(1)\r\n"
       ]
      }
     ],
     "prompt_number": 19
    },
    {
     "cell_type": "markdown",
     "metadata": {},
     "source": [
      "### `date`\n",
      "\n",
      "The `date` commands prints the current date"
     ]
    },
    {
     "cell_type": "code",
     "collapsed": false,
     "input": [
      "!date"
     ],
     "language": "python",
     "metadata": {},
     "outputs": [
      {
       "output_type": "stream",
       "stream": "stdout",
       "text": [
        "Sat Sep  6 18:59:04 UTC 2014\r\n"
       ]
      }
     ],
     "prompt_number": 20
    },
    {
     "cell_type": "markdown",
     "metadata": {},
     "source": [
      "### `logout` \n",
      "\n",
      "The logout command logs you out of the shell.\n",
      "\n",
      "We have now covered the basic commands for file management in Unix. While it is useful to know these commands, Vagrant gives us the ability to also see, move, and edit the files under the `/vagrant` directory, from the \"host\" operating system of your laptop. So, you can also use the tools and editors that you like. \n",
      "\n",
      "## Exercise\n",
      "\n",
      "* Create two new directories, dir1 and dir2 with the mkdir command. \n",
      "* Use ls to confirm\n",
      "* Copy the file /vagrant/LICENSE.txt to dir1 and name it file1\n",
      "* Copy the file /vagrant/README.md to dir2 and name it file2\n",
      "* Move each file to the other directory (file1 to dir2 and file2 to dir1) with the mv command\n",
      "* Delete both directories with the rm -r command\n"
     ]
    },
    {
     "cell_type": "code",
     "collapsed": false,
     "input": [
      "!mkdir dir1\n",
      "!mkdir dir2\n",
      "!ls \n",
      "!cp /vagrant/LICENSE.txt dir1/file1\n",
      "!cp /vagrant/README.md dir2/file2"
     ],
     "language": "python",
     "metadata": {},
     "outputs": [
      {
       "output_type": "stream",
       "stream": "stdout",
       "text": [
        "Session 1 (Basic Unix Shell Commands and CURL).ipynb\t  dir1\r\n",
        "Session 2 (Pipes, filters, and more Unix Commands).ipynb  dir2\r\n",
        "Session 3 (Regular Expressions).ipynb\t\t\t  index.html\r\n",
        "alldata.txt\t\t\t\t\t\t  location.json\r\n",
        "desktop.ini\t\t\t\t\t\t  sample.txt\r\n"
       ]
      }
     ],
     "prompt_number": 6
    },
    {
     "cell_type": "markdown",
     "metadata": {},
     "source": [
      "Getting Data using CURL\n",
      "-----------------------\n",
      "\n",
      "We now move into a more interesting topic: How to get data from Internet sources. For that, we will use a command-line tool of Unix, called `curl`. (Later in class, we will learn how to achieve the same using Python, but for quick testing, curl is often the standard method used.) Since curl does not come preinstalled, the first time that we use it, we need to issue the appropriate command for installing it.  To install it, simply type: `sudo apt-get install curl`"
     ]
    },
    {
     "cell_type": "code",
     "collapsed": false,
     "input": [
      "!sudo apt-get install curl"
     ],
     "language": "python",
     "metadata": {},
     "outputs": []
    },
    {
     "cell_type": "markdown",
     "metadata": {},
     "source": [
      "Let's start by retrieving a simple text file ([downloadable here](https://dl.dropboxusercontent.com/u/16006464/DwD_Fall2014/sample.txt)), that we will use later in the class, to illustrate how different shell commands work. The sample data file is hosted online. You can use terminal commands to copy this remote file. Simply type:"
     ]
    },
    {
     "cell_type": "code",
     "collapsed": false,
     "input": [
      "!curl -L 'https://googledrive.com/host/0BzX1e06EhsXSc20xU2JNcFoxbGc/sample.txt'"
     ],
     "language": "python",
     "metadata": {},
     "outputs": [
      {
       "output_type": "stream",
       "stream": "stdout",
       "text": [
        "123\t1346699925\t11122\tfoo bar\r\n",
        "222\t1346699955\t11145\tbiz baz\r\n",
        "140\t1346710000\t11122\thee haw\r\n",
        "234\t1346700000\t11135\tbip bop\r\n",
        "146\t1346699999\t11123\tfoo bar\r\n",
        "99\t1346750000\t11135\tbip bop\r\n",
        "99\t1346750000\t11135\tbip bop\r\n"
       ]
      }
     ],
     "prompt_number": 1
    },
    {
     "cell_type": "markdown",
     "metadata": {},
     "source": [
      "(Do not worry, for now, about the `-L` option.) To store the output to a file, we also add the `-o [output file]` in the command. (We are also going to see in the next session how to use _output redirection_ to store the output to a file.)"
     ]
    },
    {
     "cell_type": "code",
     "collapsed": false,
     "input": [
      "!curl -L 'https://googledrive.com/host/0BzX1e06EhsXSc20xU2JNcFoxbGc/sample.txt' -o sample.txt"
     ],
     "language": "python",
     "metadata": {},
     "outputs": [
      {
       "output_type": "stream",
       "stream": "stdout",
       "text": [
        "  % Total    % Received % Xferd  Average Speed   Time    Time     Time  Current\r\n",
        "                                 Dload  Upload   Total   Spent    Left  Speed\r\n",
        "\r",
        "  "
       ]
      },
      {
       "output_type": "stream",
       "stream": "stdout",
       "text": [
        "0     0    0     0    0     0      0      0 --:--:-- --:--:-- --:--:--     0"
       ]
      },
      {
       "output_type": "stream",
       "stream": "stdout",
       "text": [
        "\r",
        "100   201  100   201    0     0    490      0 --:--:-- --:--:-- --:--:--   632\r\n"
       ]
      }
     ],
     "prompt_number": 7
    },
    {
     "cell_type": "markdown",
     "metadata": {},
     "source": [
      "This will pull the file to the active directory in the current terminal, creating a new file called \u201csample.txt\u201d."
     ]
    },
    {
     "cell_type": "markdown",
     "metadata": {},
     "source": [
      "The columns in this tab-separated data correspond to [order id] [time of order] [user id] [ordered item], something similar to what might be encountered in practice. If you wish, you can copy-paste the data written above into a text editor, making sure there is a newline following each of the ordered item columns (the columns with alphabetic characters).\n",
      "\n",
      "Now, let's try to use curl to get access to some real data. A key component of today's data ecosystem is the existence of `Web APIs` which provide functionality for a variety of tasks.\n",
      "\n",
      "#### Where am I?\n",
      "\n",
      "For example, let's try to figure out programmatically our own location. As a human, we can go to http://ip-api.com/ and see the corresponding data. However, that information is designed to be seen, and is difficult to be parsed by a program. Instead let's go and access the API call by issuing the following command:\n",
      "\n"
     ]
    },
    {
     "cell_type": "code",
     "collapsed": false,
     "input": [
      "!curl http://ip-api.com/json "
     ],
     "language": "python",
     "metadata": {},
     "outputs": [
      {
       "output_type": "stream",
       "stream": "stdout",
       "text": [
        "{\"status\":\"success\",\"country\":\"United States\",\"countryCode\":\"US\",\"region\":\"NY\",\"regionName\":\"New York\",\"city\":\"New York\",\"zip\":\"10003\",\"lat\":\"40.7317\",\"lon\":\"-73.9885\",\"timezone\":\"America\\/New_York\",\"isp\":\"New York University\",\"org\":\"New York University\",\"as\":\"AS12 New York University\",\"query\":\"216.165.95.68\"}"
       ]
      }
     ],
     "prompt_number": 7
    },
    {
     "cell_type": "markdown",
     "metadata": {},
     "source": [
      "While this does not look nice to a human, for a computer is a perfectly legitimate answer. This format is called \"JSON\", and is an efficient and very commonly used way to trasfer data today on the Internet."
     ]
    },
    {
     "cell_type": "markdown",
     "metadata": {},
     "source": [
      "Now, let's examine a few more web APIs, just for fun:\n",
      "\n",
      "#### What's the weather?\n",
      "\n",
      "The previous API returned to us the long/lat coordinates of our location (well, approximately). \n",
      "\n",
      "Now, let's use the OpenWeather API to get the weather details in our location. (The details of the API calls are available at http://openweathermap.org/api.)"
     ]
    },
    {
     "cell_type": "code",
     "collapsed": false,
     "input": [
      "!curl \"http://api.openweathermap.org/data/2.5/weather?lat=40.72&lon=-73.98&units=imperial&mode=xml\""
     ],
     "language": "python",
     "metadata": {},
     "outputs": [
      {
       "output_type": "stream",
       "stream": "stdout",
       "text": [
        "{\"coord\":{\"lon\":-73.98,\"lat\":40.72},\"sys\":{\"type\":1,\"id\":2120,\"message\":0.0315,\"country\":\"US\",\"sunrise\":1409739930,\"sunset\":1409786676},\"weather\":[{\"id\":803,\"main\":\"Clouds\",\"description\":\"broken clouds\",\"icon\":\"04n\"}],\"base\":\"cmc stations\",\"main\":{\"temp\":78.4,\"pressure\":1009,\"humidity\":54,\"temp_min\":64.4,\"temp_max\":82.4},\"wind\":{\"speed\":14.47,\"deg\":250,\"gust\":12.3},\"clouds\":{\"all\":75},\"dt\":1409719034,\"id\":5128581,\"name\":\"New York\",\"cod\":200}\r\n"
       ]
      }
     ],
     "prompt_number": 19
    },
    {
     "cell_type": "markdown",
     "metadata": {},
     "source": [
      "You will notice that we asked the service to return to us the data in JSON format. For that API, we can also ask the data to be returned in a different format, called XML, which is wordlier. (We will get back to these formats later in the semester.)"
     ]
    },
    {
     "cell_type": "code",
     "collapsed": false,
     "input": [
      "!curl \"http://api.openweathermap.org/data/2.5/weather?lat=40.72&lon=-73.98&units=imperial&mode=xml\""
     ],
     "language": "python",
     "metadata": {},
     "outputs": [
      {
       "output_type": "stream",
       "stream": "stdout",
       "text": [
        "<?xml version=\"1.0\" encoding=\"utf-8\"?>\r\n",
        "<current>\r\n",
        "  <city id=\"5128581\" name=\"New York\">\r\n",
        "    <coord lon=\"-73.98\" lat=\"40.72\"/>\r\n",
        "    <country>US</country>\r\n",
        "    <sun rise=\"2014-09-03T10:25:30\" set=\"2014-09-03T23:24:36\"/>\r\n",
        "  </city>\r\n",
        "  <temperature value=\"78.46\" min=\"64.4\" max=\"82.4\" unit=\"fahrenheit\"/>\r\n",
        "  <humidity value=\"54\" unit=\"%\"/>\r\n",
        "  <pressure value=\"1009\" unit=\"hPa\"/>\r\n",
        "  <wind>\r\n",
        "    <speed value=\"14.47\" name=\"High wind, near gale\"/>\r\n",
        "    <direction value=\"250\" code=\"WSW\" name=\"West-southwest\"/>\r\n",
        "  </wind>\r\n",
        "  <clouds value=\"75\" name=\"broken clouds\"/>\r\n",
        "  <visibility/>\r\n",
        "  <precipitation mode=\"no\"/>\r\n",
        "  <weather number=\"803\" value=\"broken clouds\" icon=\"04n\"/>\r\n",
        "  <lastupdate value=\"2014-09-03T04:28:14\"/>\r\n",
        "</current>\r\n",
        "\r\n"
       ]
      }
     ],
     "prompt_number": 20
    },
    {
     "cell_type": "markdown",
     "metadata": {},
     "source": [
      "#### More statistics for our location, please\n",
      "\n",
      "Now let's use again the long/lat coordinates, to get more statistics about our area using the service from the [Data Science Toolkit](http://www.datasciencetoolkit.org/developerdocs#coordinates2statistics)\n",
      "\n"
     ]
    },
    {
     "cell_type": "code",
     "collapsed": false,
     "input": [
      "!curl \"http://www.datasciencetoolkit.org/coordinates2statistics/40.72%2c-73.98\""
     ],
     "language": "python",
     "metadata": {},
     "outputs": [
      {
       "output_type": "stream",
       "stream": "stdout",
       "text": [
        "[\r\n",
        "  {\r\n",
        "    \"location\": {\r\n",
        "      \"latitude\": 40.72,\r\n",
        "      \"longitude\": -73.98\r\n",
        "    },\r\n",
        "    \"statistics\": {\r\n",
        "      \"mean_temperature\": {\r\n",
        "        \"source_name\": \"WorldClim\",\r\n",
        "        \"description\": \"The mean monthly temperature at this point.\",\r\n",
        "        \"units\": \"degrees Celsius\",\r\n",
        "        \"value\": [\r\n",
        "          -0.5,\r\n",
        "          0.6,\r\n",
        "          5.0,\r\n",
        "          10.7,\r\n",
        "          16.4,\r\n",
        "          21.7,\r\n",
        "          24.7,\r\n",
        "          23.9,\r\n",
        "          19.6,\r\n",
        "          13.5,\r\n",
        "          8.1,\r\n",
        "          2.3\r\n",
        "        ]\r\n",
        "      },\r\n",
        "      \"us_housing_units_before_1950\": {\r\n",
        "        \"source_name\": \"US Census and the CGIAR Consortium for Spatial Information\",\r\n",
        "        \"proportion_of\": 10599,\r\n",
        "        \"description\": \"The proportion of housing units built before 1950.\",\r\n",
        "        \"value\": 0.447023304085291\r\n",
        "      },\r\n",
        "      \"us_population_hispanic_or_latino\": {\r\n",
        "        \"source_name\": \"US Census and the CGIAR Consortium for Spatial Information\",\r\n",
        "        \"proportion_of\": 26663,\r\n",
        "        \"description\": \"The proportion of residents who identify themselves as hispanic or latino.\",\r\n",
        "        \"value\": 0.572328695195589\r\n",
        "      },\r\n",
        "      \"us_population_low_income\": {\r\n",
        "        \"source_name\": null,\r\n",
        "        \"proportion_of\": 26663,\r\n",
        "        \"description\": \"The proportion of residents who earn less than twice the poverty level\",\r\n",
        "        \"value\": 0.615909687582043\r\n",
        "      },\r\n",
        "      \"us_housing_units_vacation\": {\r\n",
        "        \"source_name\": \"US Census and the CGIAR Consortium for Spatial Information\",\r\n",
        "        \"proportion_of\": 10599,\r\n",
        "        \"description\": \"The number of vacant housing units that are used for seasonal, recreational, or occasional use.\",\r\n",
        "        \"value\": 0.00141522785168412\r\n",
        "      },\r\n",
        "      \"us_population_over_seventy_nine_years_old\": {\r\n",
        "        \"source_name\": \"US Census and the CGIAR Consortium for Spatial Information\",\r\n",
        "        \"proportion_of\": 26663,\r\n",
        "        \"description\": \"The proportion of residents over seventy nine years old.\",\r\n",
        "        \"value\": 0.0217529910362675\r\n",
        "      },\r\n",
        "      \"us_population_foreign_born\": {\r\n",
        "        \"source_name\": \"US Census and the CGIAR Consortium for Spatial Information\",\r\n",
        "        \"proportion_of\": 26663,\r\n",
        "        \"description\": \"The proportion of residents who were born in a different country.\",\r\n",
        "        \"value\": 0.240108014852042\r\n",
        "      },\r\n",
        "      \"us_population_black_or_african_american_not_hispanic\": {\r\n",
        "        \"source_name\": \"US Census and the CGIAR Consortium for Spatial Information\",\r\n",
        "        \"proportion_of\": 26663,\r\n",
        "        \"description\": \"The proportion of residents who didn't identify as hispanic or latino, just black or African American alone\",\r\n",
        "        \"value\": 0.146720174023928\r\n",
        "      },\r\n",
        "      \"us_population_asian\": {\r\n",
        "        \"source_name\": \"US Census and the CGIAR Consortium for Spatial Information\",\r\n",
        "        \"proportion_of\": 26663,\r\n",
        "        \"description\": \"The proportion of residents identifying as Asian.\",\r\n",
        "        \"value\": 0.117728687694558\r\n",
        "      },\r\n",
        "      \"us_population\": {\r\n",
        "        \"source_name\": \"US Census and the CGIAR Consortium for Spatial Information\",\r\n",
        "        \"description\": \"The number of residents in this area\",\r\n",
        "        \"value\": 26663\r\n",
        "      },\r\n",
        "      \"elevation\": {\r\n",
        "        \"source_name\": \"NASA and the CGIAR Consortium for Spatial Information\",\r\n",
        "        \"description\": \"The height of the surface above sea level at this point.\",\r\n",
        "        \"units\": \"meters\",\r\n",
        "        \"value\": 4\r\n",
        "      },\r\n",
        "      \"us_population_sixty_five_to_seventy_nine_years_old\": {\r\n",
        "        \"source_name\": \"US Census and the CGIAR Consortium for Spatial Information\",\r\n",
        "        \"proportion_of\": 26663,\r\n",
        "        \"description\": \"The proportion of residents aged sixty five to seventy nine years old.\",\r\n",
        "        \"value\": 0.0847991598844841\r\n",
        "      },\r\n",
        "      \"us_population_black_or_african_american\": {\r\n",
        "        \"source_name\": \"US Census and the CGIAR Consortium for Spatial Information\",\r\n",
        "        \"proportion_of\": 26663,\r\n",
        "        \"description\": \"The proportion of residents identifying as black or African American.\",\r\n",
        "        \"value\": 0.183325207215992\r\n",
        "      },\r\n",
        "      \"us_housing_units_one_person\": {\r\n",
        "        \"source_name\": \"US Census and the CGIAR Consortium for Spatial Information\",\r\n",
        "        \"proportion_of\": 10599,\r\n",
        "        \"description\": \"The proportion of housing units containing only one person\",\r\n",
        "        \"value\": 0.315973205019341\r\n",
        "      },\r\n",
        "      \"us_households_linguistically_isolated\": {\r\n",
        "        \"source_name\": \"US Census and the CGIAR Consortium for Spatial Information\",\r\n",
        "        \"proportion_of\": 10204,\r\n",
        "        \"description\": \"The proportion of households in which no one aged 14 or older speaks English very well\",\r\n",
        "        \"value\": 0.220893767150137\r\n",
        "      },\r\n",
        "      \"us_population_five_to_seventeen_years_old\": {\r\n",
        "        \"source_name\": \"US Census and the CGIAR Consortium for Spatial Information\",\r\n",
        "        \"proportion_of\": 26663,\r\n",
        "        \"description\": \"The proportion of residents aged five to seventeen years old.\",\r\n",
        "        \"value\": 0.192551475827926\r\n",
        "      },\r\n",
        "      \"us_population_bachelors_degree\": {\r\n",
        "        \"source_name\": \"US Census and the CGIAR Consortium for Spatial Information\",\r\n",
        "        \"proportion_of\": 26663,\r\n",
        "        \"description\": \"The proportion of residents whose maximum educational attainment was a bachelor's degree.\",\r\n",
        "        \"value\": 0.113790646213854\r\n",
        "      },\r\n",
        "      \"us_households_single_mothers\": {\r\n",
        "        \"source_name\": \"US Census and the CGIAR Consortium for Spatial Information\",\r\n",
        "        \"proportion_of\": 10204,\r\n",
        "        \"description\": \"The proportion of households with a female householder, no husband, and one or more children under eighteen.\",\r\n",
        "        \"value\": 0.142395139161113\r\n",
        "      },\r\n",
        "      \"us_housing_units_1950_to_1969\": {\r\n",
        "        \"source_name\": \"US Census and the CGIAR Consortium for Spatial Information\",\r\n",
        "        \"proportion_of\": 10599,\r\n",
        "        \"description\": \"The proportion of housing units built between 1950 and 1969.\",\r\n",
        "        \"value\": 0.384470233040853\r\n",
        "      },\r\n",
        "      \"us_households\": {\r\n",
        "        \"source_name\": \"US Census and the CGIAR Consortium for Spatial Information\",\r\n",
        "        \"description\": \"The number of households in this area.\",\r\n",
        "        \"value\": 10204\r\n",
        "      },\r\n",
        "      \"us_housing_units_no_vehicle\": {\r\n",
        "        \"source_name\": \"US Census and the CGIAR Consortium for Spatial Information\",\r\n",
        "        \"proportion_of\": 10599,\r\n",
        "        \"description\": \"The proportion of occupied housing units with no vehicle available.\",\r\n",
        "        \"value\": 0.781205774129635\r\n",
        "      },\r\n",
        "      \"us_population_one_to_four_years_olds\": {\r\n",
        "        \"source_name\": \"US Census and the CGIAR Consortium for Spatial Information\",\r\n",
        "        \"proportion_of\": 26663,\r\n",
        "        \"description\": \"The proportion of residents aged one to four years old.\",\r\n",
        "        \"value\": 0.0471064771406068\r\n",
        "      },\r\n",
        "      \"us_housing_units_occupied\": {\r\n",
        "        \"source_name\": null,\r\n",
        "        \"proportion_of\": 10599,\r\n",
        "        \"description\": \"The proportion of housing units that are occupied.\",\r\n",
        "        \"value\": 0.962732333238985\r\n",
        "      },\r\n",
        "      \"us_housing_units_owner_occupied\": {\r\n",
        "        \"source_name\": \"US Census and the CGIAR Consortium for Spatial Information\",\r\n",
        "        \"proportion_of\": 10599,\r\n",
        "        \"description\": \"The proportion of housing units that are occupied by their owners.\",\r\n",
        "        \"value\": 0.076799698084725\r\n",
        "      },\r\n",
        "      \"us_population_native_hawaiian_and_other_pacific_islander\": {\r\n",
        "        \"source_name\": \"US Census and the CGIAR Consortium for Spatial Information\",\r\n",
        "        \"proportion_of\": 26663,\r\n",
        "        \"description\": \"The proportion of residents who identify as Native Hawaiian or other Pacific islander.\",\r\n",
        "        \"value\": 0.00101263923789521\r\n",
        "      },\r\n",
        "      \"us_sample_area\": {\r\n",
        "        \"source_name\": \"US Census and the CGIAR Consortium for Spatial Information\",\r\n",
        "        \"description\": \"The total area of the grid cell US Census samples were calculated on.\",\r\n",
        "        \"units\": \"square meters\",\r\n",
        "        \"value\": 650436\r\n",
        "      },\r\n",
        "      \"us_housing_units_after_1990\": {\r\n",
        "        \"source_name\": \"US Census and the CGIAR Consortium for Spatial Information\",\r\n",
        "        \"proportion_of\": 10599,\r\n",
        "        \"description\": \"The proportion of housing units built after 1990.\",\r\n",
        "        \"value\": 0.0603830550051892\r\n",
        "      },\r\n",
        "      \"us_population_white\": {\r\n",
        "        \"source_name\": \"US Census and the CGIAR Consortium for Spatial Information\",\r\n",
        "        \"proportion_of\": 26663,\r\n",
        "        \"description\": \"The proportion of residents who identify themselves as white.\",\r\n",
        "        \"value\": 0.349285526759929\r\n",
        "      },\r\n",
        "      \"population_density\": {\r\n",
        "        \"source_name\": \"NASA Socioeconomic Data and Applications Center (SEDAC) \ufffd\ufffd\ufffd Hosted by CIESIN at Columbia University\",\r\n",
        "        \"description\": \"The number of inhabitants per square kilometer around this point.\",\r\n",
        "        \"value\": 31254\r\n",
        "      },\r\n",
        "      \"precipitation\": {\r\n",
        "        \"source_name\": \"WorldClim\",\r\n",
        "        \"description\": \"The monthly average total precipitation at this point.\",\r\n",
        "        \"units\": \"millimeters\",\r\n",
        "        \"value\": [\r\n",
        "          84,\r\n",
        "          78,\r\n",
        "          98,\r\n",
        "          102,\r\n",
        "          106,\r\n",
        "          90,\r\n",
        "          106,\r\n",
        "          101,\r\n",
        "          93,\r\n",
        "          83,\r\n",
        "          103,\r\n",
        "          93\r\n",
        "        ]\r\n",
        "      },\r\n",
        "      \"us_population_under_one_year_old\": {\r\n",
        "        \"source_name\": \"US Census and the CGIAR Consortium for Spatial Information\",\r\n",
        "        \"proportion_of\": 26663,\r\n",
        "        \"description\": \"The proportion of residents under one year of age.\",\r\n",
        "        \"value\": 0.0111015264598882\r\n",
        "      },\r\n",
        "      \"us_population_eighteen_to_twenty_four_years_old\": {\r\n",
        "        \"source_name\": \"US Census and the CGIAR Consortium for Spatial Information\",\r\n",
        "        \"proportion_of\": 26663,\r\n",
        "        \"description\": \"The proportion of residents aged eighteen to twenty four years old.\",\r\n",
        "        \"value\": 0.117353636124967\r\n",
        "      },\r\n",
        "      \"us_population_poverty\": {\r\n",
        "        \"source_name\": \"US Census and the CGIAR Consortium for Spatial Information\",\r\n",
        "        \"proportion_of\": 26663,\r\n",
        "        \"description\": \"The proportion of residents whose income is below the poverty level\",\r\n",
        "        \"value\": 0.359674455237595\r\n",
        "      },\r\n",
        "      \"land_cover\": {\r\n",
        "        \"source_name\": \"European Commission Land Resource Management Unit Global Land Cover 2000\",\r\n",
        "        \"description\": \"What type of environment exists around this point - urban, water, vegetation, mountains, etc.\",\r\n",
        "        \"index\": 22,\r\n",
        "        \"value\": \"Artificial surfaces and associated areas\"\r\n",
        "      },\r\n",
        "      \"us_population_twenty_five_to_sixty_four_years_old\": {\r\n",
        "        \"source_name\": \"US Census and the CGIAR Consortium for Spatial Information\",\r\n",
        "        \"proportion_of\": 26663,\r\n",
        "        \"description\": \"The proportion of residents aged twenty five to sixty four years old.\",\r\n",
        "        \"value\": 0.52533473352586\r\n",
        "      },\r\n",
        "      \"us_housing_units_1970_to_1989\": {\r\n",
        "        \"source_name\": \"US Census and the CGIAR Consortium for Spatial Information\",\r\n",
        "        \"proportion_of\": 10599,\r\n",
        "        \"description\": \"The proportion of housing units built between 1970 and 1989.\",\r\n",
        "        \"value\": 0.0984998584772148\r\n",
        "      },\r\n",
        "      \"us_housing_units\": {\r\n",
        "        \"source_name\": \"US Census and the CGIAR Consortium for Spatial Information\",\r\n",
        "        \"description\": \"The total number of housing units in this area\",\r\n",
        "        \"value\": 10599\r\n",
        "      },\r\n",
        "      \"us_population_white_not_hispanic\": {\r\n",
        "        \"source_name\": \"US Census and the CGIAR Consortium for Spatial Information\",\r\n",
        "        \"proportion_of\": 26663,\r\n",
        "        \"description\": \"The proportion of residents who didn't identify as hispanic or latino, just white alone\",\r\n",
        "        \"value\": 0.141244421107902\r\n",
        "      },\r\n",
        "      \"us_population_severe_poverty\": {\r\n",
        "        \"source_name\": \"US Census and the CGIAR Consortium for Spatial Information\",\r\n",
        "        \"proportion_of\": 26663,\r\n",
        "        \"description\": \"The proportion of residents whose income is below half the poverty level.\",\r\n",
        "        \"value\": 0.168210628961482\r\n",
        "      }\r\n",
        "    }\r\n",
        "  }\r\n",
        "]"
       ]
      }
     ],
     "prompt_number": 23
    },
    {
     "cell_type": "markdown",
     "metadata": {},
     "source": [
      "#### What's the sentiment?\n",
      "\n",
      "Now let's try to use a web service to automatically analyze the sentiment for a piece of text. (The service comes from the [Data Scientist Toolkit](http://www.datasciencetoolkit.org/developerdocs#text2sentiment))"
     ]
    },
    {
     "cell_type": "code",
     "collapsed": false,
     "input": [
      "!curl -d \"Ford has an agressive cancer\" \"http://www.datasciencetoolkit.org/text2sentiment\""
     ],
     "language": "python",
     "metadata": {},
     "outputs": [
      {
       "output_type": "stream",
       "stream": "stdout",
       "text": [
        "{\r\n",
        "  \"score\": -1.0\r\n",
        "}"
       ]
      }
     ],
     "prompt_number": 5
    },
    {
     "cell_type": "markdown",
     "metadata": {},
     "source": [
      "#### And a few synonyms\n",
      "\n",
      "And now just a demo of a web API that I created myself a few years back. It analyzes Wikipedia to figure out different ways that people use to refer to the same entity\n",
      "\n"
     ]
    },
    {
     "cell_type": "code",
     "collapsed": false,
     "input": [
      "!curl http://wikisynonyms.ipeirotis.com/api/Hillary%20Clinton"
     ],
     "language": "python",
     "metadata": {},
     "outputs": [
      {
       "output_type": "stream",
       "stream": "stdout",
       "text": [
        "{\"http\":200,\"message\":\"success\",\"terms\":[{\"term\":\"Hillary Rodham Clinton\",\"canonical\":1,\"oskill\":0},{\"term\":\"Hillary R. Clinton\",\"canonical\":0,\"oskill\":0},{\"term\":\"Hilary clinton\",\"canonical\":0,\"oskill\":0},{\"term\":\"Hilary Clinton\",\"canonical\":0,\"oskill\":0},{\"term\":\"HIllary Rodham Clinton\",\"canonical\":0,\"oskill\":0},{\"term\":\"Hillary Rodham\",\"canonical\":0,\"oskill\":0},{\"term\":\"Clinton, Hillary Rodham\",\"canonical\":0,\"oskill\":0},{\"term\":\"Senator Clinton\",\"canonical\":0,\"oskill\":0},{\"term\":\"Hillary Rodham Clinton controversies\",\"canonical\":0,\"oskill\":0},{\"term\":\"Cultural matters related to Hillary Rodham Clinton\",\"canonical\":0,\"oskill\":0},{\"term\":\"Controversies surrounding Hillary Clinton\",\"canonical\":0,\"oskill\":0},{\"term\":\"Cultural Matters of Hillary Clinton\",\"canonical\":0,\"oskill\":0},{\"term\":\"Senator Hillary Rodham Clinton\",\"canonical\":0,\"oskill\":0},{\"term\":\"Controversies surrounding Hillary Rodham Clinton\",\"canonical\":0,\"oskill\":0},{\"term\":\"Hilary Rodham Clinton\",\"canonical\":0,\"oskill\":0},{\"term\":\"Hillary Diane Rodham Clinton\",\"canonical\":0,\"oskill\":0},{\"term\":\"Hillery Clinton\",\"canonical\":0,\"oskill\":0},{\"term\":\"Hillary Diane Rodham Clinotn\",\"canonical\":0,\"oskill\":0},{\"term\":\"Hilliary Clinton\",\"canonical\":0,\"oskill\":0},{\"term\":\"Hillary Diane Clinton\",\"canonical\":0,\"oskill\":0},{\"term\":\"Hillary Diane Rodham\",\"canonical\":0,\"oskill\":0},{\"term\":\"Hillary Cliton\",\"canonical\":0,\"oskill\":0},{\"term\":\"Hillary clinton\",\"canonical\":0,\"oskill\":0},{\"term\":\"List of Hillary Rodham Clinton Controversies\",\"canonical\":0,\"oskill\":0},{\"term\":\"Hillary D. R. Clinton\",\"canonical\":0,\"oskill\":0},{\"term\":\"Hillary Diane R. Clinton\",\"canonical\":0,\"oskill\":0},{\"term\":\"HR Clinton\",\"canonical\":0,\"oskill\":0},{\"term\":\"Rodham Clinton\",\"canonical\":0,\"oskill\":0},{\"term\":\"Mrs. Clinton\",\"canonical\":0,\"oskill\":0},{\"term\":\"Ms. Clinton\",\"canonical\":0,\"oskill\":0},{\"term\":\"Mrs Clinton\",\"canonical\":0,\"oskill\":0},{\"term\":\"Hilary Rodham\",\"canonical\":0,\"oskill\":0},{\"term\":\"Hillary Rodham-Clinton\",\"canonical\":0,\"oskill\":0},{\"term\":\"HillaryRodhamClinton\",\"canonical\":0,\"oskill\":0},{\"term\":\"HilaryRodhamClinton\",\"canonical\":0,\"oskill\":0},{\"term\":\"Hillary-Rodham-Clinton\",\"canonical\":0,\"oskill\":0},{\"term\":\"RodhamClinton\",\"canonical\":0,\"oskill\":0},{\"term\":\"Rodham-Clinton\",\"canonical\":0,\"oskill\":0},{\"term\":\"HillaryRodham\",\"canonical\":0,\"oskill\":0},{\"term\":\"Clinton, Hillary\",\"canonical\":0,\"oskill\":0},{\"term\":\"Hillary-Rodham\",\"canonical\":0,\"oskill\":0},{\"term\":\"Ms. Rodham\",\"canonical\":0,\"oskill\":0},{\"term\":\"Clinton Rodham\",\"canonical\":0,\"oskill\":0},{\"term\":\"Rodham, Hillary\",\"canonical\":0,\"oskill\":0},{\"term\":\"Rodham Hillary\",\"canonical\":0,\"oskill\":0},{\"term\":\"Ms Rodham\",\"canonical\":0,\"oskill\":0},{\"term\":\"MsRodham\",\"canonical\":0,\"oskill\":0},{\"term\":\"Ms.Rodham\",\"canonical\":0,\"oskill\":0},{\"term\":\"Miss Rodham\",\"canonical\":0,\"oskill\":0},{\"term\":\"MissRodham\",\"canonical\":0,\"oskill\":0},{\"term\":\"Hillary Clinton-Rodham\",\"canonical\":0,\"oskill\":0},{\"term\":\"Clinton, Rodham\",\"canonical\":0,\"oskill\":0},{\"term\":\"Clinton-Rodham\",\"canonical\":0,\"oskill\":0},{\"term\":\"Rodham,Hillary\",\"canonical\":0,\"oskill\":0},{\"term\":\"Hillary Rodham Clintion\",\"canonical\":0,\"oskill\":0},{\"term\":\"H Clinton\",\"canonical\":0,\"oskill\":0},{\"term\":\"Hillary Diane\",\"canonical\":0,\"oskill\":0},{\"term\":\"Senator Hillary Clinton\",\"canonical\":0,\"oskill\":0},{\"term\":\"Rodham, Hillary Diane\",\"canonical\":0,\"oskill\":0},{\"term\":\"Hillary Clinton\",\"canonical\":0,\"oskill\":0},{\"term\":\"Clinton hillary\",\"canonical\":0,\"oskill\":0},{\"term\":\"Mrs. Bill Clinton\",\"canonical\":0,\"oskill\":0},{\"term\":\"Mrs Bill Clinton\",\"canonical\":0,\"oskill\":0},{\"term\":\"Hillary Rodham Klinton\",\"canonical\":0,\"oskill\":0},{\"term\":\"Hillary Klinton\",\"canonical\":0,\"oskill\":0},{\"term\":\"Secretary of State Hillary Clinton\",\"canonical\":0,\"oskill\":0},{\"term\":\"H.R. Clinton\",\"canonical\":0,\"oskill\":0},{\"term\":\"Secretary Clinton\",\"canonical\":0,\"oskill\":0},{\"term\":\"H. Clinton\",\"canonical\":0,\"oskill\":0},{\"term\":\"Public image of Hillary clinton\",\"canonical\":0,\"oskill\":0},{\"term\":\"Hillery clinton\",\"canonical\":0,\"oskill\":0}]}"
       ]
      }
     ],
     "prompt_number": 9
    },
    {
     "cell_type": "markdown",
     "metadata": {},
     "source": [
      "## Exercise\n",
      "\n",
      "The following websites contain listing of many useful APIs\n",
      "\n",
      "* https://www.mashape.com \n",
      "* http://www.programmableweb.com/\n",
      "* http://www.mashery.com/\n",
      "* http://apigee.com/ \n",
      "\n",
      "Mashape is my own personal favorite in terms of user-friendliness and also has examples directly expressed using CURL. but the others are pretty nice as well. Your task: search through these websites and find a web API that does something that you like. Use CURL to issue a web API call to this service. "
     ]
    },
    {
     "cell_type": "code",
     "collapsed": false,
     "input": [
      "!curl --include \"https://numbersapi.p.mashape.com/9/8/date?fragment=true&json=true\" \\\n",
      "  -H \"X-Mashape-Key: tW57vO1fzDmshmfkjHDH8RH4dtkbp1kaN99jsnw3OVCzQJRPc7\"\n"
     ],
     "language": "python",
     "metadata": {},
     "outputs": [
      {
       "output_type": "stream",
       "stream": "stdout",
       "text": [
        "HTTP/1.1 200 OK\r",
        "\r\n",
        "Access-Control-Allow-Headers: X-Requested-With\r",
        "\r\n",
        "Access-Control-Allow-Origin: *\r",
        "\r\n",
        "Cache-Control: no-cache\r",
        "\r\n",
        "Content-Type: application/json; charset=utf-8\r",
        "\r\n",
        "Date: Mon, 08 Sep 2014 19:45:34 GMT\r",
        "\r\n",
        "Expires: 0\r",
        "\r\n",
        "Pragma: no-cache\r",
        "\r\n",
        "Server: Mashape/5.0.3\r",
        "\r\n",
        "X-Numbers-API-Number: 252\r",
        "\r\n",
        "X-Numbers-API-Type: date\r",
        "\r\n",
        "X-Powered-By: Express\r",
        "\r\n",
        "Content-Length: 182\r",
        "\r\n",
        "Connection: keep-alive\r",
        "\r\n",
        "\r",
        "\r\n",
        "{\r\n",
        " \"text\": \"Battle of Kulikovo \ufffd\ufffd\ufffd Russian forces defeat a mixed army of Tatars and Mongols, stopping their advance\",\r\n",
        " \"year\": 1380,\r\n",
        " \"number\": 252,\r\n",
        " \"found\": true,\r\n",
        " \"type\": \"date\"\r\n",
        "}"
       ]
      }
     ],
     "prompt_number": 21
    },
    {
     "cell_type": "code",
     "collapsed": false,
     "input": [],
     "language": "python",
     "metadata": {},
     "outputs": []
    }
   ],
   "metadata": {}
  }
 ]
}